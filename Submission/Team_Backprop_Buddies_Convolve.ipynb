{
  "nbformat": 4,
  "nbformat_minor": 0,
  "metadata": {
    "colab": {
      "provenance": [],
      "gpuType": "T4"
    },
    "kernelspec": {
      "name": "python3",
      "display_name": "Python 3"
    },
    "language_info": {
      "name": "python"
    },
    "accelerator": "GPU"
  },
  "cells": [
    {
      "cell_type": "code",
      "execution_count": 1,
      "metadata": {
        "id": "nJDQMgNBr440"
      },
      "outputs": [],
      "source": [
        "import numpy as np\n",
        "import pandas as pd\n",
        "import tensorflow as tf\n",
        "\n",
        "import seaborn as sns\n",
        "\n",
        "from sklearn.ensemble import RandomForestClassifier\n",
        "from sklearn.feature_selection import VarianceThreshold\n",
        "from sklearn.preprocessing import StandardScaler\n",
        "from sklearn.utils.class_weight import compute_class_weight\n",
        "from sklearn.model_selection import train_test_split\n",
        "from sklearn.metrics import accuracy_score, roc_auc_score\n",
        "from sklearn.utils.class_weight import compute_class_weight\n",
        "\n",
        "from imblearn.over_sampling import SMOTE\n",
        "\n",
        "from tensorflow.keras.models import Sequential\n",
        "from tensorflow.keras.layers import Dense, Dropout\n",
        "from tensorflow.keras.optimizers import Adam\n",
        "from tensorflow.keras.regularizers import l2\n",
        "from tensorflow.keras.callbacks import EarlyStopping\n",
        "\n",
        "from sklearn.metrics import roc_auc_score"
      ]
    },
    {
      "cell_type": "code",
      "source": [
        "from google.colab import drive\n",
        "drive.mount('/content/drive')\n"
      ],
      "metadata": {
        "colab": {
          "base_uri": "https://localhost:8080/"
        },
        "id": "wFcr5MReD1RA",
        "outputId": "3e50951a-ed45-4bb3-d0fd-f5e20a3a9f9e"
      },
      "execution_count": 2,
      "outputs": [
        {
          "output_type": "stream",
          "name": "stdout",
          "text": [
            "Mounted at /content/drive\n"
          ]
        }
      ]
    },
    {
      "cell_type": "code",
      "source": [
        "dev_data_path = '/content/drive/MyDrive/Convolve/Dev_data_to_be_shared.csv'\n",
        "validation_data_path = '/content/drive/MyDrive/Convolve/validation_data_to_be_shared.csv'\n",
        "\n",
        "dev_data_df = pd.read_csv(dev_data_path)\n",
        "validation_data_df = pd.read_csv(validation_data_path)\n"
      ],
      "metadata": {
        "id": "Zu80zcPdsYKY"
      },
      "execution_count": 3,
      "outputs": []
    },
    {
      "cell_type": "code",
      "source": [
        "print(\"Dev Data:\")\n",
        "dev_data_df.head()\n"
      ],
      "metadata": {
        "colab": {
          "base_uri": "https://localhost:8080/",
          "height": 273
        },
        "id": "MDasrvHVDzYK",
        "outputId": "4ec42ba1-fbe0-4e82-c8c0-48feebff78e4"
      },
      "execution_count": 4,
      "outputs": [
        {
          "output_type": "stream",
          "name": "stdout",
          "text": [
            "Dev Data:\n"
          ]
        },
        {
          "output_type": "execute_result",
          "data": {
            "text/plain": [
              "   account_number  bad_flag  onus_attribute_1  transaction_attribute_1  \\\n",
              "0               1         0               NaN                      NaN   \n",
              "1               2         0          221000.0                      0.0   \n",
              "2               3         0           25000.0                      0.0   \n",
              "3               4         0           86000.0                      0.0   \n",
              "4               5         0          215000.0                      0.0   \n",
              "\n",
              "   transaction_attribute_2  transaction_attribute_3  transaction_attribute_4  \\\n",
              "0                      NaN                      NaN                      NaN   \n",
              "1                      0.0                      0.0                      0.0   \n",
              "2                      0.0                      0.0                      0.0   \n",
              "3                      0.0                      0.0                      0.0   \n",
              "4                      0.0                      0.0                      0.0   \n",
              "\n",
              "   transaction_attribute_5  transaction_attribute_6  transaction_attribute_7  \\\n",
              "0                      NaN                      NaN                      NaN   \n",
              "1                      0.0                      0.0                      0.0   \n",
              "2                      0.0                      0.0                      0.0   \n",
              "3                      0.0                      0.0                      0.0   \n",
              "4                      0.0                      0.0                      0.0   \n",
              "\n",
              "   ...  bureau_enquiry_47  bureau_enquiry_48  bureau_enquiry_49  \\\n",
              "0  ...                0.0                0.0                0.0   \n",
              "1  ...                0.0                0.0                2.0   \n",
              "2  ...                0.0                0.0                0.0   \n",
              "3  ...                0.0                0.0                0.0   \n",
              "4  ...                0.0                0.0                0.0   \n",
              "\n",
              "   bureau_enquiry_50  onus_attribute_43  onus_attribute_44  onus_attribute_45  \\\n",
              "0                1.0                NaN                NaN                NaN   \n",
              "1                3.0                0.0                0.0                0.0   \n",
              "2                8.0                NaN                NaN                NaN   \n",
              "3               30.0                NaN                NaN                NaN   \n",
              "4                1.0                NaN                NaN                NaN   \n",
              "\n",
              "   onus_attribute_46  onus_attribute_47  onus_attribute_48  \n",
              "0                NaN                NaN                NaN  \n",
              "1                0.0                0.0                0.0  \n",
              "2                NaN                NaN                NaN  \n",
              "3                NaN                NaN                NaN  \n",
              "4                NaN                NaN                NaN  \n",
              "\n",
              "[5 rows x 1216 columns]"
            ],
            "text/html": [
              "\n",
              "  <div id=\"df-82a4c5b3-b8ef-4a15-87fe-155c73ce6026\" class=\"colab-df-container\">\n",
              "    <div>\n",
              "<style scoped>\n",
              "    .dataframe tbody tr th:only-of-type {\n",
              "        vertical-align: middle;\n",
              "    }\n",
              "\n",
              "    .dataframe tbody tr th {\n",
              "        vertical-align: top;\n",
              "    }\n",
              "\n",
              "    .dataframe thead th {\n",
              "        text-align: right;\n",
              "    }\n",
              "</style>\n",
              "<table border=\"1\" class=\"dataframe\">\n",
              "  <thead>\n",
              "    <tr style=\"text-align: right;\">\n",
              "      <th></th>\n",
              "      <th>account_number</th>\n",
              "      <th>bad_flag</th>\n",
              "      <th>onus_attribute_1</th>\n",
              "      <th>transaction_attribute_1</th>\n",
              "      <th>transaction_attribute_2</th>\n",
              "      <th>transaction_attribute_3</th>\n",
              "      <th>transaction_attribute_4</th>\n",
              "      <th>transaction_attribute_5</th>\n",
              "      <th>transaction_attribute_6</th>\n",
              "      <th>transaction_attribute_7</th>\n",
              "      <th>...</th>\n",
              "      <th>bureau_enquiry_47</th>\n",
              "      <th>bureau_enquiry_48</th>\n",
              "      <th>bureau_enquiry_49</th>\n",
              "      <th>bureau_enquiry_50</th>\n",
              "      <th>onus_attribute_43</th>\n",
              "      <th>onus_attribute_44</th>\n",
              "      <th>onus_attribute_45</th>\n",
              "      <th>onus_attribute_46</th>\n",
              "      <th>onus_attribute_47</th>\n",
              "      <th>onus_attribute_48</th>\n",
              "    </tr>\n",
              "  </thead>\n",
              "  <tbody>\n",
              "    <tr>\n",
              "      <th>0</th>\n",
              "      <td>1</td>\n",
              "      <td>0</td>\n",
              "      <td>NaN</td>\n",
              "      <td>NaN</td>\n",
              "      <td>NaN</td>\n",
              "      <td>NaN</td>\n",
              "      <td>NaN</td>\n",
              "      <td>NaN</td>\n",
              "      <td>NaN</td>\n",
              "      <td>NaN</td>\n",
              "      <td>...</td>\n",
              "      <td>0.0</td>\n",
              "      <td>0.0</td>\n",
              "      <td>0.0</td>\n",
              "      <td>1.0</td>\n",
              "      <td>NaN</td>\n",
              "      <td>NaN</td>\n",
              "      <td>NaN</td>\n",
              "      <td>NaN</td>\n",
              "      <td>NaN</td>\n",
              "      <td>NaN</td>\n",
              "    </tr>\n",
              "    <tr>\n",
              "      <th>1</th>\n",
              "      <td>2</td>\n",
              "      <td>0</td>\n",
              "      <td>221000.0</td>\n",
              "      <td>0.0</td>\n",
              "      <td>0.0</td>\n",
              "      <td>0.0</td>\n",
              "      <td>0.0</td>\n",
              "      <td>0.0</td>\n",
              "      <td>0.0</td>\n",
              "      <td>0.0</td>\n",
              "      <td>...</td>\n",
              "      <td>0.0</td>\n",
              "      <td>0.0</td>\n",
              "      <td>2.0</td>\n",
              "      <td>3.0</td>\n",
              "      <td>0.0</td>\n",
              "      <td>0.0</td>\n",
              "      <td>0.0</td>\n",
              "      <td>0.0</td>\n",
              "      <td>0.0</td>\n",
              "      <td>0.0</td>\n",
              "    </tr>\n",
              "    <tr>\n",
              "      <th>2</th>\n",
              "      <td>3</td>\n",
              "      <td>0</td>\n",
              "      <td>25000.0</td>\n",
              "      <td>0.0</td>\n",
              "      <td>0.0</td>\n",
              "      <td>0.0</td>\n",
              "      <td>0.0</td>\n",
              "      <td>0.0</td>\n",
              "      <td>0.0</td>\n",
              "      <td>0.0</td>\n",
              "      <td>...</td>\n",
              "      <td>0.0</td>\n",
              "      <td>0.0</td>\n",
              "      <td>0.0</td>\n",
              "      <td>8.0</td>\n",
              "      <td>NaN</td>\n",
              "      <td>NaN</td>\n",
              "      <td>NaN</td>\n",
              "      <td>NaN</td>\n",
              "      <td>NaN</td>\n",
              "      <td>NaN</td>\n",
              "    </tr>\n",
              "    <tr>\n",
              "      <th>3</th>\n",
              "      <td>4</td>\n",
              "      <td>0</td>\n",
              "      <td>86000.0</td>\n",
              "      <td>0.0</td>\n",
              "      <td>0.0</td>\n",
              "      <td>0.0</td>\n",
              "      <td>0.0</td>\n",
              "      <td>0.0</td>\n",
              "      <td>0.0</td>\n",
              "      <td>0.0</td>\n",
              "      <td>...</td>\n",
              "      <td>0.0</td>\n",
              "      <td>0.0</td>\n",
              "      <td>0.0</td>\n",
              "      <td>30.0</td>\n",
              "      <td>NaN</td>\n",
              "      <td>NaN</td>\n",
              "      <td>NaN</td>\n",
              "      <td>NaN</td>\n",
              "      <td>NaN</td>\n",
              "      <td>NaN</td>\n",
              "    </tr>\n",
              "    <tr>\n",
              "      <th>4</th>\n",
              "      <td>5</td>\n",
              "      <td>0</td>\n",
              "      <td>215000.0</td>\n",
              "      <td>0.0</td>\n",
              "      <td>0.0</td>\n",
              "      <td>0.0</td>\n",
              "      <td>0.0</td>\n",
              "      <td>0.0</td>\n",
              "      <td>0.0</td>\n",
              "      <td>0.0</td>\n",
              "      <td>...</td>\n",
              "      <td>0.0</td>\n",
              "      <td>0.0</td>\n",
              "      <td>0.0</td>\n",
              "      <td>1.0</td>\n",
              "      <td>NaN</td>\n",
              "      <td>NaN</td>\n",
              "      <td>NaN</td>\n",
              "      <td>NaN</td>\n",
              "      <td>NaN</td>\n",
              "      <td>NaN</td>\n",
              "    </tr>\n",
              "  </tbody>\n",
              "</table>\n",
              "<p>5 rows × 1216 columns</p>\n",
              "</div>\n",
              "    <div class=\"colab-df-buttons\">\n",
              "\n",
              "  <div class=\"colab-df-container\">\n",
              "    <button class=\"colab-df-convert\" onclick=\"convertToInteractive('df-82a4c5b3-b8ef-4a15-87fe-155c73ce6026')\"\n",
              "            title=\"Convert this dataframe to an interactive table.\"\n",
              "            style=\"display:none;\">\n",
              "\n",
              "  <svg xmlns=\"http://www.w3.org/2000/svg\" height=\"24px\" viewBox=\"0 -960 960 960\">\n",
              "    <path d=\"M120-120v-720h720v720H120Zm60-500h600v-160H180v160Zm220 220h160v-160H400v160Zm0 220h160v-160H400v160ZM180-400h160v-160H180v160Zm440 0h160v-160H620v160ZM180-180h160v-160H180v160Zm440 0h160v-160H620v160Z\"/>\n",
              "  </svg>\n",
              "    </button>\n",
              "\n",
              "  <style>\n",
              "    .colab-df-container {\n",
              "      display:flex;\n",
              "      gap: 12px;\n",
              "    }\n",
              "\n",
              "    .colab-df-convert {\n",
              "      background-color: #E8F0FE;\n",
              "      border: none;\n",
              "      border-radius: 50%;\n",
              "      cursor: pointer;\n",
              "      display: none;\n",
              "      fill: #1967D2;\n",
              "      height: 32px;\n",
              "      padding: 0 0 0 0;\n",
              "      width: 32px;\n",
              "    }\n",
              "\n",
              "    .colab-df-convert:hover {\n",
              "      background-color: #E2EBFA;\n",
              "      box-shadow: 0px 1px 2px rgba(60, 64, 67, 0.3), 0px 1px 3px 1px rgba(60, 64, 67, 0.15);\n",
              "      fill: #174EA6;\n",
              "    }\n",
              "\n",
              "    .colab-df-buttons div {\n",
              "      margin-bottom: 4px;\n",
              "    }\n",
              "\n",
              "    [theme=dark] .colab-df-convert {\n",
              "      background-color: #3B4455;\n",
              "      fill: #D2E3FC;\n",
              "    }\n",
              "\n",
              "    [theme=dark] .colab-df-convert:hover {\n",
              "      background-color: #434B5C;\n",
              "      box-shadow: 0px 1px 3px 1px rgba(0, 0, 0, 0.15);\n",
              "      filter: drop-shadow(0px 1px 2px rgba(0, 0, 0, 0.3));\n",
              "      fill: #FFFFFF;\n",
              "    }\n",
              "  </style>\n",
              "\n",
              "    <script>\n",
              "      const buttonEl =\n",
              "        document.querySelector('#df-82a4c5b3-b8ef-4a15-87fe-155c73ce6026 button.colab-df-convert');\n",
              "      buttonEl.style.display =\n",
              "        google.colab.kernel.accessAllowed ? 'block' : 'none';\n",
              "\n",
              "      async function convertToInteractive(key) {\n",
              "        const element = document.querySelector('#df-82a4c5b3-b8ef-4a15-87fe-155c73ce6026');\n",
              "        const dataTable =\n",
              "          await google.colab.kernel.invokeFunction('convertToInteractive',\n",
              "                                                    [key], {});\n",
              "        if (!dataTable) return;\n",
              "\n",
              "        const docLinkHtml = 'Like what you see? Visit the ' +\n",
              "          '<a target=\"_blank\" href=https://colab.research.google.com/notebooks/data_table.ipynb>data table notebook</a>'\n",
              "          + ' to learn more about interactive tables.';\n",
              "        element.innerHTML = '';\n",
              "        dataTable['output_type'] = 'display_data';\n",
              "        await google.colab.output.renderOutput(dataTable, element);\n",
              "        const docLink = document.createElement('div');\n",
              "        docLink.innerHTML = docLinkHtml;\n",
              "        element.appendChild(docLink);\n",
              "      }\n",
              "    </script>\n",
              "  </div>\n",
              "\n",
              "\n",
              "<div id=\"df-fdf672d7-cfdb-477a-b8a3-c0ba925cb4aa\">\n",
              "  <button class=\"colab-df-quickchart\" onclick=\"quickchart('df-fdf672d7-cfdb-477a-b8a3-c0ba925cb4aa')\"\n",
              "            title=\"Suggest charts\"\n",
              "            style=\"display:none;\">\n",
              "\n",
              "<svg xmlns=\"http://www.w3.org/2000/svg\" height=\"24px\"viewBox=\"0 0 24 24\"\n",
              "     width=\"24px\">\n",
              "    <g>\n",
              "        <path d=\"M19 3H5c-1.1 0-2 .9-2 2v14c0 1.1.9 2 2 2h14c1.1 0 2-.9 2-2V5c0-1.1-.9-2-2-2zM9 17H7v-7h2v7zm4 0h-2V7h2v10zm4 0h-2v-4h2v4z\"/>\n",
              "    </g>\n",
              "</svg>\n",
              "  </button>\n",
              "\n",
              "<style>\n",
              "  .colab-df-quickchart {\n",
              "      --bg-color: #E8F0FE;\n",
              "      --fill-color: #1967D2;\n",
              "      --hover-bg-color: #E2EBFA;\n",
              "      --hover-fill-color: #174EA6;\n",
              "      --disabled-fill-color: #AAA;\n",
              "      --disabled-bg-color: #DDD;\n",
              "  }\n",
              "\n",
              "  [theme=dark] .colab-df-quickchart {\n",
              "      --bg-color: #3B4455;\n",
              "      --fill-color: #D2E3FC;\n",
              "      --hover-bg-color: #434B5C;\n",
              "      --hover-fill-color: #FFFFFF;\n",
              "      --disabled-bg-color: #3B4455;\n",
              "      --disabled-fill-color: #666;\n",
              "  }\n",
              "\n",
              "  .colab-df-quickchart {\n",
              "    background-color: var(--bg-color);\n",
              "    border: none;\n",
              "    border-radius: 50%;\n",
              "    cursor: pointer;\n",
              "    display: none;\n",
              "    fill: var(--fill-color);\n",
              "    height: 32px;\n",
              "    padding: 0;\n",
              "    width: 32px;\n",
              "  }\n",
              "\n",
              "  .colab-df-quickchart:hover {\n",
              "    background-color: var(--hover-bg-color);\n",
              "    box-shadow: 0 1px 2px rgba(60, 64, 67, 0.3), 0 1px 3px 1px rgba(60, 64, 67, 0.15);\n",
              "    fill: var(--button-hover-fill-color);\n",
              "  }\n",
              "\n",
              "  .colab-df-quickchart-complete:disabled,\n",
              "  .colab-df-quickchart-complete:disabled:hover {\n",
              "    background-color: var(--disabled-bg-color);\n",
              "    fill: var(--disabled-fill-color);\n",
              "    box-shadow: none;\n",
              "  }\n",
              "\n",
              "  .colab-df-spinner {\n",
              "    border: 2px solid var(--fill-color);\n",
              "    border-color: transparent;\n",
              "    border-bottom-color: var(--fill-color);\n",
              "    animation:\n",
              "      spin 1s steps(1) infinite;\n",
              "  }\n",
              "\n",
              "  @keyframes spin {\n",
              "    0% {\n",
              "      border-color: transparent;\n",
              "      border-bottom-color: var(--fill-color);\n",
              "      border-left-color: var(--fill-color);\n",
              "    }\n",
              "    20% {\n",
              "      border-color: transparent;\n",
              "      border-left-color: var(--fill-color);\n",
              "      border-top-color: var(--fill-color);\n",
              "    }\n",
              "    30% {\n",
              "      border-color: transparent;\n",
              "      border-left-color: var(--fill-color);\n",
              "      border-top-color: var(--fill-color);\n",
              "      border-right-color: var(--fill-color);\n",
              "    }\n",
              "    40% {\n",
              "      border-color: transparent;\n",
              "      border-right-color: var(--fill-color);\n",
              "      border-top-color: var(--fill-color);\n",
              "    }\n",
              "    60% {\n",
              "      border-color: transparent;\n",
              "      border-right-color: var(--fill-color);\n",
              "    }\n",
              "    80% {\n",
              "      border-color: transparent;\n",
              "      border-right-color: var(--fill-color);\n",
              "      border-bottom-color: var(--fill-color);\n",
              "    }\n",
              "    90% {\n",
              "      border-color: transparent;\n",
              "      border-bottom-color: var(--fill-color);\n",
              "    }\n",
              "  }\n",
              "</style>\n",
              "\n",
              "  <script>\n",
              "    async function quickchart(key) {\n",
              "      const quickchartButtonEl =\n",
              "        document.querySelector('#' + key + ' button');\n",
              "      quickchartButtonEl.disabled = true;  // To prevent multiple clicks.\n",
              "      quickchartButtonEl.classList.add('colab-df-spinner');\n",
              "      try {\n",
              "        const charts = await google.colab.kernel.invokeFunction(\n",
              "            'suggestCharts', [key], {});\n",
              "      } catch (error) {\n",
              "        console.error('Error during call to suggestCharts:', error);\n",
              "      }\n",
              "      quickchartButtonEl.classList.remove('colab-df-spinner');\n",
              "      quickchartButtonEl.classList.add('colab-df-quickchart-complete');\n",
              "    }\n",
              "    (() => {\n",
              "      let quickchartButtonEl =\n",
              "        document.querySelector('#df-fdf672d7-cfdb-477a-b8a3-c0ba925cb4aa button');\n",
              "      quickchartButtonEl.style.display =\n",
              "        google.colab.kernel.accessAllowed ? 'block' : 'none';\n",
              "    })();\n",
              "  </script>\n",
              "</div>\n",
              "\n",
              "    </div>\n",
              "  </div>\n"
            ],
            "application/vnd.google.colaboratory.intrinsic+json": {
              "type": "dataframe",
              "variable_name": "dev_data_df"
            }
          },
          "metadata": {},
          "execution_count": 4
        }
      ]
    },
    {
      "cell_type": "code",
      "source": [
        "print(\"\\nValidation Data:\")\n",
        "validation_data_df.head()\n"
      ],
      "metadata": {
        "colab": {
          "base_uri": "https://localhost:8080/",
          "height": 290
        },
        "id": "K33sHP5DEeA_",
        "outputId": "37975114-6174-44d3-b716-383f94565fd4"
      },
      "execution_count": 5,
      "outputs": [
        {
          "output_type": "stream",
          "name": "stdout",
          "text": [
            "\n",
            "Validation Data:\n"
          ]
        },
        {
          "output_type": "execute_result",
          "data": {
            "text/plain": [
              "   account_number  onus_attribute_1  transaction_attribute_1  \\\n",
              "0          100001           34000.0                      0.0   \n",
              "1          100002               NaN                      NaN   \n",
              "2          100003          130000.0                      0.0   \n",
              "3          100004               NaN                      NaN   \n",
              "4          100005           53000.0                      0.0   \n",
              "\n",
              "   transaction_attribute_2  transaction_attribute_3  transaction_attribute_4  \\\n",
              "0                      0.0                      0.0                      0.0   \n",
              "1                      NaN                      NaN                      NaN   \n",
              "2                      0.0                      0.0                      0.0   \n",
              "3                      NaN                      NaN                      NaN   \n",
              "4                      0.0                      0.0                      0.0   \n",
              "\n",
              "   transaction_attribute_5  transaction_attribute_6  transaction_attribute_7  \\\n",
              "0                      0.0                      0.0                      0.0   \n",
              "1                      NaN                      NaN                      NaN   \n",
              "2                      0.0                      0.0                      0.0   \n",
              "3                      NaN                      NaN                      NaN   \n",
              "4                      0.0                      0.0                      0.0   \n",
              "\n",
              "   transaction_attribute_8  ...  bureau_enquiry_47  bureau_enquiry_48  \\\n",
              "0                      0.0  ...                0.0                0.0   \n",
              "1                      NaN  ...                0.0                0.0   \n",
              "2                      0.0  ...                0.0                2.0   \n",
              "3                      NaN  ...                0.0                0.0   \n",
              "4                      0.0  ...                0.0                0.0   \n",
              "\n",
              "   bureau_enquiry_49  bureau_enquiry_50  onus_attribute_43  onus_attribute_44  \\\n",
              "0                0.0               32.0                NaN                NaN   \n",
              "1                0.0                0.0                NaN                NaN   \n",
              "2                0.0               12.0                NaN                NaN   \n",
              "3                0.0                1.0                NaN                NaN   \n",
              "4                0.0               18.0                0.0                0.0   \n",
              "\n",
              "   onus_attribute_45  onus_attribute_46  onus_attribute_47  onus_attribute_48  \n",
              "0                NaN                NaN                NaN                NaN  \n",
              "1                NaN                NaN                NaN                NaN  \n",
              "2                NaN                NaN                NaN                NaN  \n",
              "3                NaN                NaN                NaN                NaN  \n",
              "4                0.0                0.0                0.0                0.0  \n",
              "\n",
              "[5 rows x 1215 columns]"
            ],
            "text/html": [
              "\n",
              "  <div id=\"df-40fb2353-2467-47de-a663-b8185b3a0633\" class=\"colab-df-container\">\n",
              "    <div>\n",
              "<style scoped>\n",
              "    .dataframe tbody tr th:only-of-type {\n",
              "        vertical-align: middle;\n",
              "    }\n",
              "\n",
              "    .dataframe tbody tr th {\n",
              "        vertical-align: top;\n",
              "    }\n",
              "\n",
              "    .dataframe thead th {\n",
              "        text-align: right;\n",
              "    }\n",
              "</style>\n",
              "<table border=\"1\" class=\"dataframe\">\n",
              "  <thead>\n",
              "    <tr style=\"text-align: right;\">\n",
              "      <th></th>\n",
              "      <th>account_number</th>\n",
              "      <th>onus_attribute_1</th>\n",
              "      <th>transaction_attribute_1</th>\n",
              "      <th>transaction_attribute_2</th>\n",
              "      <th>transaction_attribute_3</th>\n",
              "      <th>transaction_attribute_4</th>\n",
              "      <th>transaction_attribute_5</th>\n",
              "      <th>transaction_attribute_6</th>\n",
              "      <th>transaction_attribute_7</th>\n",
              "      <th>transaction_attribute_8</th>\n",
              "      <th>...</th>\n",
              "      <th>bureau_enquiry_47</th>\n",
              "      <th>bureau_enquiry_48</th>\n",
              "      <th>bureau_enquiry_49</th>\n",
              "      <th>bureau_enquiry_50</th>\n",
              "      <th>onus_attribute_43</th>\n",
              "      <th>onus_attribute_44</th>\n",
              "      <th>onus_attribute_45</th>\n",
              "      <th>onus_attribute_46</th>\n",
              "      <th>onus_attribute_47</th>\n",
              "      <th>onus_attribute_48</th>\n",
              "    </tr>\n",
              "  </thead>\n",
              "  <tbody>\n",
              "    <tr>\n",
              "      <th>0</th>\n",
              "      <td>100001</td>\n",
              "      <td>34000.0</td>\n",
              "      <td>0.0</td>\n",
              "      <td>0.0</td>\n",
              "      <td>0.0</td>\n",
              "      <td>0.0</td>\n",
              "      <td>0.0</td>\n",
              "      <td>0.0</td>\n",
              "      <td>0.0</td>\n",
              "      <td>0.0</td>\n",
              "      <td>...</td>\n",
              "      <td>0.0</td>\n",
              "      <td>0.0</td>\n",
              "      <td>0.0</td>\n",
              "      <td>32.0</td>\n",
              "      <td>NaN</td>\n",
              "      <td>NaN</td>\n",
              "      <td>NaN</td>\n",
              "      <td>NaN</td>\n",
              "      <td>NaN</td>\n",
              "      <td>NaN</td>\n",
              "    </tr>\n",
              "    <tr>\n",
              "      <th>1</th>\n",
              "      <td>100002</td>\n",
              "      <td>NaN</td>\n",
              "      <td>NaN</td>\n",
              "      <td>NaN</td>\n",
              "      <td>NaN</td>\n",
              "      <td>NaN</td>\n",
              "      <td>NaN</td>\n",
              "      <td>NaN</td>\n",
              "      <td>NaN</td>\n",
              "      <td>NaN</td>\n",
              "      <td>...</td>\n",
              "      <td>0.0</td>\n",
              "      <td>0.0</td>\n",
              "      <td>0.0</td>\n",
              "      <td>0.0</td>\n",
              "      <td>NaN</td>\n",
              "      <td>NaN</td>\n",
              "      <td>NaN</td>\n",
              "      <td>NaN</td>\n",
              "      <td>NaN</td>\n",
              "      <td>NaN</td>\n",
              "    </tr>\n",
              "    <tr>\n",
              "      <th>2</th>\n",
              "      <td>100003</td>\n",
              "      <td>130000.0</td>\n",
              "      <td>0.0</td>\n",
              "      <td>0.0</td>\n",
              "      <td>0.0</td>\n",
              "      <td>0.0</td>\n",
              "      <td>0.0</td>\n",
              "      <td>0.0</td>\n",
              "      <td>0.0</td>\n",
              "      <td>0.0</td>\n",
              "      <td>...</td>\n",
              "      <td>0.0</td>\n",
              "      <td>2.0</td>\n",
              "      <td>0.0</td>\n",
              "      <td>12.0</td>\n",
              "      <td>NaN</td>\n",
              "      <td>NaN</td>\n",
              "      <td>NaN</td>\n",
              "      <td>NaN</td>\n",
              "      <td>NaN</td>\n",
              "      <td>NaN</td>\n",
              "    </tr>\n",
              "    <tr>\n",
              "      <th>3</th>\n",
              "      <td>100004</td>\n",
              "      <td>NaN</td>\n",
              "      <td>NaN</td>\n",
              "      <td>NaN</td>\n",
              "      <td>NaN</td>\n",
              "      <td>NaN</td>\n",
              "      <td>NaN</td>\n",
              "      <td>NaN</td>\n",
              "      <td>NaN</td>\n",
              "      <td>NaN</td>\n",
              "      <td>...</td>\n",
              "      <td>0.0</td>\n",
              "      <td>0.0</td>\n",
              "      <td>0.0</td>\n",
              "      <td>1.0</td>\n",
              "      <td>NaN</td>\n",
              "      <td>NaN</td>\n",
              "      <td>NaN</td>\n",
              "      <td>NaN</td>\n",
              "      <td>NaN</td>\n",
              "      <td>NaN</td>\n",
              "    </tr>\n",
              "    <tr>\n",
              "      <th>4</th>\n",
              "      <td>100005</td>\n",
              "      <td>53000.0</td>\n",
              "      <td>0.0</td>\n",
              "      <td>0.0</td>\n",
              "      <td>0.0</td>\n",
              "      <td>0.0</td>\n",
              "      <td>0.0</td>\n",
              "      <td>0.0</td>\n",
              "      <td>0.0</td>\n",
              "      <td>0.0</td>\n",
              "      <td>...</td>\n",
              "      <td>0.0</td>\n",
              "      <td>0.0</td>\n",
              "      <td>0.0</td>\n",
              "      <td>18.0</td>\n",
              "      <td>0.0</td>\n",
              "      <td>0.0</td>\n",
              "      <td>0.0</td>\n",
              "      <td>0.0</td>\n",
              "      <td>0.0</td>\n",
              "      <td>0.0</td>\n",
              "    </tr>\n",
              "  </tbody>\n",
              "</table>\n",
              "<p>5 rows × 1215 columns</p>\n",
              "</div>\n",
              "    <div class=\"colab-df-buttons\">\n",
              "\n",
              "  <div class=\"colab-df-container\">\n",
              "    <button class=\"colab-df-convert\" onclick=\"convertToInteractive('df-40fb2353-2467-47de-a663-b8185b3a0633')\"\n",
              "            title=\"Convert this dataframe to an interactive table.\"\n",
              "            style=\"display:none;\">\n",
              "\n",
              "  <svg xmlns=\"http://www.w3.org/2000/svg\" height=\"24px\" viewBox=\"0 -960 960 960\">\n",
              "    <path d=\"M120-120v-720h720v720H120Zm60-500h600v-160H180v160Zm220 220h160v-160H400v160Zm0 220h160v-160H400v160ZM180-400h160v-160H180v160Zm440 0h160v-160H620v160ZM180-180h160v-160H180v160Zm440 0h160v-160H620v160Z\"/>\n",
              "  </svg>\n",
              "    </button>\n",
              "\n",
              "  <style>\n",
              "    .colab-df-container {\n",
              "      display:flex;\n",
              "      gap: 12px;\n",
              "    }\n",
              "\n",
              "    .colab-df-convert {\n",
              "      background-color: #E8F0FE;\n",
              "      border: none;\n",
              "      border-radius: 50%;\n",
              "      cursor: pointer;\n",
              "      display: none;\n",
              "      fill: #1967D2;\n",
              "      height: 32px;\n",
              "      padding: 0 0 0 0;\n",
              "      width: 32px;\n",
              "    }\n",
              "\n",
              "    .colab-df-convert:hover {\n",
              "      background-color: #E2EBFA;\n",
              "      box-shadow: 0px 1px 2px rgba(60, 64, 67, 0.3), 0px 1px 3px 1px rgba(60, 64, 67, 0.15);\n",
              "      fill: #174EA6;\n",
              "    }\n",
              "\n",
              "    .colab-df-buttons div {\n",
              "      margin-bottom: 4px;\n",
              "    }\n",
              "\n",
              "    [theme=dark] .colab-df-convert {\n",
              "      background-color: #3B4455;\n",
              "      fill: #D2E3FC;\n",
              "    }\n",
              "\n",
              "    [theme=dark] .colab-df-convert:hover {\n",
              "      background-color: #434B5C;\n",
              "      box-shadow: 0px 1px 3px 1px rgba(0, 0, 0, 0.15);\n",
              "      filter: drop-shadow(0px 1px 2px rgba(0, 0, 0, 0.3));\n",
              "      fill: #FFFFFF;\n",
              "    }\n",
              "  </style>\n",
              "\n",
              "    <script>\n",
              "      const buttonEl =\n",
              "        document.querySelector('#df-40fb2353-2467-47de-a663-b8185b3a0633 button.colab-df-convert');\n",
              "      buttonEl.style.display =\n",
              "        google.colab.kernel.accessAllowed ? 'block' : 'none';\n",
              "\n",
              "      async function convertToInteractive(key) {\n",
              "        const element = document.querySelector('#df-40fb2353-2467-47de-a663-b8185b3a0633');\n",
              "        const dataTable =\n",
              "          await google.colab.kernel.invokeFunction('convertToInteractive',\n",
              "                                                    [key], {});\n",
              "        if (!dataTable) return;\n",
              "\n",
              "        const docLinkHtml = 'Like what you see? Visit the ' +\n",
              "          '<a target=\"_blank\" href=https://colab.research.google.com/notebooks/data_table.ipynb>data table notebook</a>'\n",
              "          + ' to learn more about interactive tables.';\n",
              "        element.innerHTML = '';\n",
              "        dataTable['output_type'] = 'display_data';\n",
              "        await google.colab.output.renderOutput(dataTable, element);\n",
              "        const docLink = document.createElement('div');\n",
              "        docLink.innerHTML = docLinkHtml;\n",
              "        element.appendChild(docLink);\n",
              "      }\n",
              "    </script>\n",
              "  </div>\n",
              "\n",
              "\n",
              "<div id=\"df-a6d972d9-c593-40d1-b73c-d2376d176f55\">\n",
              "  <button class=\"colab-df-quickchart\" onclick=\"quickchart('df-a6d972d9-c593-40d1-b73c-d2376d176f55')\"\n",
              "            title=\"Suggest charts\"\n",
              "            style=\"display:none;\">\n",
              "\n",
              "<svg xmlns=\"http://www.w3.org/2000/svg\" height=\"24px\"viewBox=\"0 0 24 24\"\n",
              "     width=\"24px\">\n",
              "    <g>\n",
              "        <path d=\"M19 3H5c-1.1 0-2 .9-2 2v14c0 1.1.9 2 2 2h14c1.1 0 2-.9 2-2V5c0-1.1-.9-2-2-2zM9 17H7v-7h2v7zm4 0h-2V7h2v10zm4 0h-2v-4h2v4z\"/>\n",
              "    </g>\n",
              "</svg>\n",
              "  </button>\n",
              "\n",
              "<style>\n",
              "  .colab-df-quickchart {\n",
              "      --bg-color: #E8F0FE;\n",
              "      --fill-color: #1967D2;\n",
              "      --hover-bg-color: #E2EBFA;\n",
              "      --hover-fill-color: #174EA6;\n",
              "      --disabled-fill-color: #AAA;\n",
              "      --disabled-bg-color: #DDD;\n",
              "  }\n",
              "\n",
              "  [theme=dark] .colab-df-quickchart {\n",
              "      --bg-color: #3B4455;\n",
              "      --fill-color: #D2E3FC;\n",
              "      --hover-bg-color: #434B5C;\n",
              "      --hover-fill-color: #FFFFFF;\n",
              "      --disabled-bg-color: #3B4455;\n",
              "      --disabled-fill-color: #666;\n",
              "  }\n",
              "\n",
              "  .colab-df-quickchart {\n",
              "    background-color: var(--bg-color);\n",
              "    border: none;\n",
              "    border-radius: 50%;\n",
              "    cursor: pointer;\n",
              "    display: none;\n",
              "    fill: var(--fill-color);\n",
              "    height: 32px;\n",
              "    padding: 0;\n",
              "    width: 32px;\n",
              "  }\n",
              "\n",
              "  .colab-df-quickchart:hover {\n",
              "    background-color: var(--hover-bg-color);\n",
              "    box-shadow: 0 1px 2px rgba(60, 64, 67, 0.3), 0 1px 3px 1px rgba(60, 64, 67, 0.15);\n",
              "    fill: var(--button-hover-fill-color);\n",
              "  }\n",
              "\n",
              "  .colab-df-quickchart-complete:disabled,\n",
              "  .colab-df-quickchart-complete:disabled:hover {\n",
              "    background-color: var(--disabled-bg-color);\n",
              "    fill: var(--disabled-fill-color);\n",
              "    box-shadow: none;\n",
              "  }\n",
              "\n",
              "  .colab-df-spinner {\n",
              "    border: 2px solid var(--fill-color);\n",
              "    border-color: transparent;\n",
              "    border-bottom-color: var(--fill-color);\n",
              "    animation:\n",
              "      spin 1s steps(1) infinite;\n",
              "  }\n",
              "\n",
              "  @keyframes spin {\n",
              "    0% {\n",
              "      border-color: transparent;\n",
              "      border-bottom-color: var(--fill-color);\n",
              "      border-left-color: var(--fill-color);\n",
              "    }\n",
              "    20% {\n",
              "      border-color: transparent;\n",
              "      border-left-color: var(--fill-color);\n",
              "      border-top-color: var(--fill-color);\n",
              "    }\n",
              "    30% {\n",
              "      border-color: transparent;\n",
              "      border-left-color: var(--fill-color);\n",
              "      border-top-color: var(--fill-color);\n",
              "      border-right-color: var(--fill-color);\n",
              "    }\n",
              "    40% {\n",
              "      border-color: transparent;\n",
              "      border-right-color: var(--fill-color);\n",
              "      border-top-color: var(--fill-color);\n",
              "    }\n",
              "    60% {\n",
              "      border-color: transparent;\n",
              "      border-right-color: var(--fill-color);\n",
              "    }\n",
              "    80% {\n",
              "      border-color: transparent;\n",
              "      border-right-color: var(--fill-color);\n",
              "      border-bottom-color: var(--fill-color);\n",
              "    }\n",
              "    90% {\n",
              "      border-color: transparent;\n",
              "      border-bottom-color: var(--fill-color);\n",
              "    }\n",
              "  }\n",
              "</style>\n",
              "\n",
              "  <script>\n",
              "    async function quickchart(key) {\n",
              "      const quickchartButtonEl =\n",
              "        document.querySelector('#' + key + ' button');\n",
              "      quickchartButtonEl.disabled = true;  // To prevent multiple clicks.\n",
              "      quickchartButtonEl.classList.add('colab-df-spinner');\n",
              "      try {\n",
              "        const charts = await google.colab.kernel.invokeFunction(\n",
              "            'suggestCharts', [key], {});\n",
              "      } catch (error) {\n",
              "        console.error('Error during call to suggestCharts:', error);\n",
              "      }\n",
              "      quickchartButtonEl.classList.remove('colab-df-spinner');\n",
              "      quickchartButtonEl.classList.add('colab-df-quickchart-complete');\n",
              "    }\n",
              "    (() => {\n",
              "      let quickchartButtonEl =\n",
              "        document.querySelector('#df-a6d972d9-c593-40d1-b73c-d2376d176f55 button');\n",
              "      quickchartButtonEl.style.display =\n",
              "        google.colab.kernel.accessAllowed ? 'block' : 'none';\n",
              "    })();\n",
              "  </script>\n",
              "</div>\n",
              "\n",
              "    </div>\n",
              "  </div>\n"
            ],
            "application/vnd.google.colaboratory.intrinsic+json": {
              "type": "dataframe",
              "variable_name": "validation_data_df"
            }
          },
          "metadata": {},
          "execution_count": 5
        }
      ]
    },
    {
      "cell_type": "code",
      "source": [
        "print(dev_data_df.isnull().sum())\n",
        "print(validation_data_df.isnull().sum())"
      ],
      "metadata": {
        "id": "EygnFxntEzOd",
        "colab": {
          "base_uri": "https://localhost:8080/"
        },
        "outputId": "ca882e87-9939-44a8-d136-5395decd1a1f"
      },
      "execution_count": 6,
      "outputs": [
        {
          "output_type": "stream",
          "name": "stdout",
          "text": [
            "account_number                 0\n",
            "bad_flag                       0\n",
            "onus_attribute_1           25231\n",
            "transaction_attribute_1    25231\n",
            "transaction_attribute_2    25231\n",
            "                           ...  \n",
            "onus_attribute_44          85196\n",
            "onus_attribute_45          85196\n",
            "onus_attribute_46          85196\n",
            "onus_attribute_47          85196\n",
            "onus_attribute_48          85196\n",
            "Length: 1216, dtype: int64\n",
            "account_number                 0\n",
            "onus_attribute_1           10990\n",
            "transaction_attribute_1    10990\n",
            "transaction_attribute_2    10990\n",
            "transaction_attribute_3    10990\n",
            "                           ...  \n",
            "onus_attribute_44          36789\n",
            "onus_attribute_45          36789\n",
            "onus_attribute_46          36789\n",
            "onus_attribute_47          36789\n",
            "onus_attribute_48          36789\n",
            "Length: 1215, dtype: int64\n"
          ]
        }
      ]
    },
    {
      "cell_type": "code",
      "source": [
        "import pandas as pd\n",
        "import numpy as np\n",
        "from sklearn.cluster import KMeans\n",
        "from sklearn.preprocessing import StandardScaler\n",
        "\n",
        "# Separate columns by their prefixes\n",
        "transaction_cols = [col for col in dev_data_df.columns if col.startswith(\"transaction_attribute\")]\n",
        "onus_cols = [col for col in dev_data_df.columns if col.startswith(\"onus_attribute\")]\n",
        "bureau_enquiry_cols = [col for col in dev_data_df.columns if col.startswith(\"bureau_enquiry\")]\n",
        "bureau_cols = [col for col in dev_data_df.columns if col.startswith(\"bureau\")]\n",
        "\n",
        "# Impute transaction_attribute_# columns with 0\n",
        "dev_data_df[transaction_cols] = dev_data_df[transaction_cols].fillna(0)\n",
        "validation_data_df[transaction_cols] = validation_data_df[transaction_cols].fillna(0)\n",
        "\n",
        "# Impute onus_attributes with median (NaN only)\n",
        "for col in onus_cols:\n",
        "    median_value = dev_data_df[col].median()  # Calculate median (NaN values not included)\n",
        "    dev_data_df[col].fillna(median_value, inplace=True)\n",
        "    validation_data_df[col].fillna(median_value, inplace=True)\n",
        "\n",
        "# Impute bureau attributes with mean (NaN only)\n",
        "for col in bureau_cols:\n",
        "    mean_value = dev_data_df[col].mean()  # Calculate mean (NaN values not included)\n",
        "    dev_data_df[col].fillna(mean_value, inplace=True)\n",
        "    validation_data_df[col].fillna(mean_value, inplace=True)\n",
        "\n",
        "# Impute bureau_enquiry attributes with median (NaN only)\n",
        "for col in bureau_enquiry_cols:\n",
        "    median_value = dev_data_df[col].median()  # Calculate median (NaN values not included)\n",
        "    dev_data_df[col].fillna(median_value, inplace=True)\n",
        "    validation_data_df[col].fillna(median_value, inplace=True)\n",
        "\n",
        "dev_data_df.fillna(0, inplace=True)\n",
        "validation_data_df.fillna(0, inplace=True)\n",
        "\n",
        "# Assuming dev_data_df is already loaded, cleaned, and you have computed sum_mod_1 and sum_mod_3 as before.\n",
        "# Also assuming you want to include these newly computed sums as features.\n",
        "\n",
        "###############################################################################\n",
        "# 1. Subset Rows where bad_flag = 1\n",
        "###############################################################################\n",
        "bad_subset = dev_data_df[dev_data_df['bad_flag'] == 1].copy()\n",
        "print(f\"Number of rows with bad_flag=1: {len(bad_subset)}\")\n",
        "\n",
        "###############################################################################\n",
        "# 2. Select All Relevant Feature Columns for Clustering\n",
        "###############################################################################\n",
        "# Drop identifier columns and the target flag, since they are not features for clustering.\n",
        "# Adjust this list if you have other non-feature columns.\n",
        "features = bad_subset.drop(columns=['account_number', 'bad_flag'])\n",
        "\n",
        "# Optionally, you can further filter out non-numeric columns:\n",
        "numeric_features = features.select_dtypes(include=[np.number])\n",
        "\n",
        "print(f\"Clustering on {numeric_features.shape[1]} numeric features.\")\n",
        "\n",
        "###############################################################################\n",
        "# 3. (Optional) Scale Features\n",
        "###############################################################################\n",
        "# Scaling is recommended when features have different scales.\n",
        "scaler = StandardScaler()\n",
        "X_scaled = scaler.fit_transform(numeric_features)\n",
        "\n",
        "###############################################################################\n",
        "# 4. Apply K-Means Clustering\n",
        "###############################################################################\n",
        "# Choose a number of clusters; for demonstration, we'll pick 3.\n",
        "k = 3\n",
        "kmeans = KMeans(n_clusters=k, random_state=42)\n",
        "kmeans.fit(X_scaled)\n",
        "\n",
        "# Assign cluster labels to each row in the bad_subset\n",
        "bad_subset['cluster_label'] = kmeans.labels_\n",
        "\n",
        "###############################################################################\n",
        "# 5. Examine Clustering Results\n",
        "###############################################################################\n",
        "# Show first few rows with cluster assignments\n",
        "print(bad_subset[['account_number', 'cluster_label']].head())\n",
        "\n",
        "# Optionally, view the cluster centers in the scaled feature space\n",
        "print(\"Cluster Centers (in scaled feature space):\")\n",
        "print(kmeans.cluster_centers_)\n",
        "\n",
        "# If you wish to see cluster centers in the original feature space:\n",
        "original_centers = scaler.inverse_transform(kmeans.cluster_centers_)\n",
        "print(\"Cluster Centers (in original feature space):\")\n",
        "print(original_centers)\n",
        "\n",
        "import numpy as np\n",
        "import matplotlib.pyplot as plt\n",
        "from sklearn.decomposition import PCA\n",
        "\n",
        "# --- Assumptions:\n",
        "# dev_data_df: DataFrame with all data and a 'bad_flag' column.\n",
        "# X_scaled: Scaled features for all rows in dev_data_df.\n",
        "# bad_subset: DataFrame for rows with bad_flag=1, containing a 'cluster_label' column.\n",
        "# ---\n",
        "\n",
        "# 1. Filter for rows where bad_flag = 1\n",
        "bad_filter = dev_data_df['bad_flag'] == 1\n",
        "\n",
        "# Extract cluster labels corresponding to these rows\n",
        "# Ensure alignment between bad_subset and the filtered indices\n",
        "cluster_labels = bad_subset['cluster_label'].values\n",
        "\n",
        "# 2. Apply PCA to reduce dimensionality to 2 components\n",
        "pca = PCA(n_components=2, random_state=42)\n",
        "X_pca = pca.fit_transform(X_scaled)\n",
        "\n",
        "# 3. Create a scatter plot of the first two principal components, colored by cluster\n",
        "plt.figure(figsize=(10, 8))\n",
        "scatter = plt.scatter(X_pca[:, 0], X_pca[:, 1], c=cluster_labels, cmap='viridis', alpha=0.7, edgecolor='k')\n",
        "plt.title('PCA Projection of Clusters (bad_flag = 1)')\n",
        "plt.xlabel('Principal Component 1')\n",
        "plt.ylabel('Principal Component 2')\n",
        "plt.colorbar(scatter, label='Cluster Label')\n",
        "plt.grid(True)\n",
        "plt.show()\n",
        "\n"
      ],
      "metadata": {
        "colab": {
          "base_uri": "https://localhost:8080/",
          "height": 1000
        },
        "id": "8O1uk5CI-nxV",
        "outputId": "db833173-3c5c-436e-aef9-c2131b1aec22"
      },
      "execution_count": 9,
      "outputs": [
        {
          "output_type": "stream",
          "name": "stderr",
          "text": [
            "<ipython-input-9-2307b038e044>:19: FutureWarning: A value is trying to be set on a copy of a DataFrame or Series through chained assignment using an inplace method.\n",
            "The behavior will change in pandas 3.0. This inplace method will never work because the intermediate object on which we are setting values always behaves as a copy.\n",
            "\n",
            "For example, when doing 'df[col].method(value, inplace=True)', try using 'df.method({col: value}, inplace=True)' or df[col] = df[col].method(value) instead, to perform the operation inplace on the original object.\n",
            "\n",
            "\n",
            "  dev_data_df[col].fillna(median_value, inplace=True)\n",
            "<ipython-input-9-2307b038e044>:20: FutureWarning: A value is trying to be set on a copy of a DataFrame or Series through chained assignment using an inplace method.\n",
            "The behavior will change in pandas 3.0. This inplace method will never work because the intermediate object on which we are setting values always behaves as a copy.\n",
            "\n",
            "For example, when doing 'df[col].method(value, inplace=True)', try using 'df.method({col: value}, inplace=True)' or df[col] = df[col].method(value) instead, to perform the operation inplace on the original object.\n",
            "\n",
            "\n",
            "  validation_data_df[col].fillna(median_value, inplace=True)\n",
            "<ipython-input-9-2307b038e044>:25: FutureWarning: A value is trying to be set on a copy of a DataFrame or Series through chained assignment using an inplace method.\n",
            "The behavior will change in pandas 3.0. This inplace method will never work because the intermediate object on which we are setting values always behaves as a copy.\n",
            "\n",
            "For example, when doing 'df[col].method(value, inplace=True)', try using 'df.method({col: value}, inplace=True)' or df[col] = df[col].method(value) instead, to perform the operation inplace on the original object.\n",
            "\n",
            "\n",
            "  dev_data_df[col].fillna(mean_value, inplace=True)\n",
            "<ipython-input-9-2307b038e044>:26: FutureWarning: A value is trying to be set on a copy of a DataFrame or Series through chained assignment using an inplace method.\n",
            "The behavior will change in pandas 3.0. This inplace method will never work because the intermediate object on which we are setting values always behaves as a copy.\n",
            "\n",
            "For example, when doing 'df[col].method(value, inplace=True)', try using 'df.method({col: value}, inplace=True)' or df[col] = df[col].method(value) instead, to perform the operation inplace on the original object.\n",
            "\n",
            "\n",
            "  validation_data_df[col].fillna(mean_value, inplace=True)\n",
            "<ipython-input-9-2307b038e044>:31: FutureWarning: A value is trying to be set on a copy of a DataFrame or Series through chained assignment using an inplace method.\n",
            "The behavior will change in pandas 3.0. This inplace method will never work because the intermediate object on which we are setting values always behaves as a copy.\n",
            "\n",
            "For example, when doing 'df[col].method(value, inplace=True)', try using 'df.method({col: value}, inplace=True)' or df[col] = df[col].method(value) instead, to perform the operation inplace on the original object.\n",
            "\n",
            "\n",
            "  dev_data_df[col].fillna(median_value, inplace=True)\n",
            "<ipython-input-9-2307b038e044>:32: FutureWarning: A value is trying to be set on a copy of a DataFrame or Series through chained assignment using an inplace method.\n",
            "The behavior will change in pandas 3.0. This inplace method will never work because the intermediate object on which we are setting values always behaves as a copy.\n",
            "\n",
            "For example, when doing 'df[col].method(value, inplace=True)', try using 'df.method({col: value}, inplace=True)' or df[col] = df[col].method(value) instead, to perform the operation inplace on the original object.\n",
            "\n",
            "\n",
            "  validation_data_df[col].fillna(median_value, inplace=True)\n"
          ]
        },
        {
          "output_type": "stream",
          "name": "stdout",
          "text": [
            "Number of rows with bad_flag=1: 1372\n",
            "Clustering on 1214 numeric features.\n",
            "     account_number  cluster_label\n",
            "141             142              0\n",
            "246             247              0\n",
            "289             290              0\n",
            "351             352              0\n",
            "476             477              0\n",
            "Cluster Centers (in scaled feature space):\n",
            "[[ 0.00913633  0.00275496  0.00275496 ...  0.00290401 -0.01433731\n",
            "  -0.01433731]\n",
            " [-0.9485115  -0.02700731 -0.02700731 ... -0.20622343 -0.07221387\n",
            "  -0.07221387]\n",
            " [-0.08274777 -0.02700731 -0.02700731 ... -0.02705768  0.14223944\n",
            "   0.14223944]]\n",
            "Cluster Centers (in original feature space):\n",
            "[[ 1.03587952e+05  6.42570281e-01  8.03212851e-04 ...  1.27791165e+00\n",
            "   6.42570281e-03  6.42570281e-03]\n",
            " [ 2.50000000e+04  0.00000000e+00  0.00000000e+00 ...  1.00000000e+00\n",
            "   0.00000000e+00  0.00000000e+00]\n",
            " [ 9.60476190e+04 -9.99200722e-16 -1.08420217e-18 ...  1.23809524e+00\n",
            "   2.38095238e-02  2.38095238e-02]]\n"
          ]
        },
        {
          "output_type": "display_data",
          "data": {
            "text/plain": [
              "<Figure size 1000x800 with 2 Axes>"
            ],
            "image/png": "[encoded data removed]"
          },
          "metadata": {}
        }
      ]
    },
    {
      "cell_type": "markdown",
      "source": [
        "# Implementation 2: Using Simple Feed Forward Neural Network with Advanced Techniques\n",
        "\n",
        "(Implementation 1 given below)"
      ],
      "metadata": {
        "id": "Sly-txoMD7P2"
      }
    },
    {
      "cell_type": "code",
      "source": [
        "# Separate columns by their prefixes\n",
        "transaction_cols = [col for col in dev_data_df.columns if col.startswith(\"transaction_attribute\")]\n",
        "onus_cols = [col for col in dev_data_df.columns if col.startswith(\"onus_attribute\")]\n",
        "bureau_enquiry_cols = [col for col in dev_data_df.columns if col.startswith(\"bureau_enquiry\")]\n",
        "bureau_cols = [col for col in dev_data_df.columns if col.startswith(\"bureau\")]\n",
        "\n",
        "# Impute transaction_attribute_# columns with 0\n",
        "dev_data_df[transaction_cols] = dev_data_df[transaction_cols].fillna(0)\n",
        "validation_data_df[transaction_cols] = validation_data_df[transaction_cols].fillna(0)\n",
        "\n",
        "# Impute onus_attributes with median (NaN only)\n",
        "for col in onus_cols:\n",
        "    median_value = dev_data_df[col].median()  # Calculate median (NaN values not included)\n",
        "    dev_data_df[col].fillna(median_value, inplace=True)\n",
        "    validation_data_df[col].fillna(median_value, inplace=True)\n",
        "\n",
        "# Impute bureau attributes with mean (NaN only)\n",
        "for col in bureau_cols:\n",
        "    mean_value = dev_data_df[col].mean()  # Calculate mean (NaN values not included)\n",
        "    dev_data_df[col].fillna(mean_value, inplace=True)\n",
        "    validation_data_df[col].fillna(mean_value, inplace=True)\n",
        "\n",
        "# Impute bureau_enquiry attributes with median (NaN only)\n",
        "for col in bureau_enquiry_cols:\n",
        "    median_value = dev_data_df[col].median()  # Calculate median (NaN values not included)\n",
        "    dev_data_df[col].fillna(median_value, inplace=True)\n",
        "    validation_data_df[col].fillna(median_value, inplace=True)\n",
        "\n",
        "dev_data_df.fillna(0, inplace=True)\n",
        "validation_data_df.fillna(0, inplace=True)\n",
        "\n",
        "\n",
        "###############################################################################\n",
        "# 3. SPLIT FEATURES & TARGET (DEVELOPMENT DATA)\n",
        "###############################################################################\n",
        "X_dev = dev_data_df.drop(columns=['account_number', 'bad_flag'])\n",
        "y_dev = dev_data_df['bad_flag']\n",
        "\n",
        "###############################################################################\n",
        "# 4. LOW-VARIANCE FEATURE REMOVAL\n",
        "###############################################################################\n",
        "lv_thresh = VarianceThreshold(threshold=0.0)\n",
        "X_dev_lv = lv_thresh.fit_transform(X_dev)\n",
        "kept_cols_lv = X_dev.columns[lv_thresh.get_support()]\n",
        "\n",
        "###############################################################################\n",
        "# 5. CORRELATION-BASED PRUNING\n",
        "###############################################################################\n",
        "X_dev_lv_df = pd.DataFrame(X_dev_lv, columns=kept_cols_lv)\n",
        "corr_matrix = X_dev_lv_df.corr().abs()\n",
        "\n",
        "upper = corr_matrix.where(\n",
        "    np.triu(np.ones(corr_matrix.shape), k=1).astype(bool)\n",
        ")\n",
        "\n",
        "corr_threshold = 0.90\n",
        "to_drop = [\n",
        "    col for col in upper.columns if any(upper[col] > corr_threshold)\n",
        "]\n",
        "\n",
        "kept_cols_corr = [col for col in X_dev_lv_df.columns if col not in to_drop]\n",
        "X_dev_corr = X_dev_lv_df[kept_cols_corr].values  # final numeric matrix\n",
        "\n",
        "###############################################################################\n",
        "# 5.5. RANDOM FOREST FEATURE IMPORTANCE CHECK\n",
        "###############################################################################\n",
        "rf = RandomForestClassifier(n_estimators=100, random_state=42)\n",
        "rf.fit(X_dev_corr, y_dev)  # train on entire dev set for quick check\n",
        "importances = rf.feature_importances_\n",
        "\n",
        "# Sort from most to least important\n",
        "indices = np.argsort(importances)[::-1]\n",
        "\n",
        "print(\"Feature Importance Ranking:\\n\")\n",
        "for idx in indices[:30]:  # printing top 30\n",
        "    print(f\"{kept_cols_corr[idx]}: {importances[idx]:.4f}\")\n",
        "\n",
        "###############################################################################\n",
        "# 6. TRAIN-TEST SPLIT (STRATIFIED) ON REDUCED FEATURES\n",
        "###############################################################################\n",
        "X_train, X_test, y_train, y_test = train_test_split(\n",
        "    X_dev_corr, y_dev,\n",
        "    test_size=0.2,\n",
        "    random_state=42,\n",
        "    stratify=y_dev\n",
        ")\n",
        "\n",
        "###############################################################################\n",
        "# 7. SCALING\n",
        "###############################################################################\n",
        "scaler = StandardScaler()\n",
        "X_train_scaled = scaler.fit_transform(X_train)\n",
        "X_test_scaled  = scaler.transform(X_test)\n",
        "\n",
        "# We'll scale validation data later using same scaler:\n",
        "# X_val_scaled = scaler.transform(X_val_corr)  (done before submission)\n",
        "\n",
        "###############################################################################\n",
        "# 8. SMOTE OVERSAMPLING (TRAIN SET ONLY)\n",
        "###############################################################################\n",
        "# We do SMOTE after scaling, but you can also do it before scaling.\n",
        "# We'll do it here after scaling for demonstration.\n",
        "# sampling_strategy=0.05 => minority class will be 5% of majority class size\n",
        "sm = SMOTE(sampling_strategy=0.05, random_state=42)\n",
        "X_train_sm, y_train_sm = sm.fit_resample(X_train_scaled, y_train)\n",
        "\n",
        "print(\"Original training distribution:\")\n",
        "print(y_train.value_counts())\n",
        "print(\"\\nSMOTE training distribution:\")\n",
        "print(pd.Series(y_train_sm).value_counts())\n",
        "\n",
        "###############################################################################\n",
        "# 9. CLASS WEIGHTS\n",
        "###############################################################################\n",
        "class_weights = compute_class_weight(\n",
        "    class_weight='balanced',\n",
        "    classes=np.unique(y_train_sm),\n",
        "    y=y_train_sm\n",
        ")\n",
        "class_weights_dict = {i: w for i, w in enumerate(class_weights)}\n",
        "\n",
        "###############################################################################\n",
        "# 10. DEFINE THE MODEL (WITH L2 REGULARIZATION & INCREASED DROPOUT)\n",
        "###############################################################################\n",
        "model = Sequential([\n",
        "    Dense(32, activation='relu', input_dim=X_train_sm.shape[1], kernel_regularizer=l2(1e-4)),\n",
        "    Dropout(0.4),\n",
        "    Dense(16, activation='relu', kernel_regularizer=l2(1e-4)),\n",
        "    Dropout(0.4),\n",
        "    Dense(1, activation='sigmoid')\n",
        "])\n",
        "\n",
        "model.compile(\n",
        "    optimizer=Adam(learning_rate=0.0005),\n",
        "    loss='binary_crossentropy',\n",
        "    metrics=['accuracy', tf.keras.metrics.AUC(name='AUC')]\n",
        ")\n",
        "\n",
        "###############################################################################\n",
        "# 11. EARLY STOPPING\n",
        "###############################################################################\n",
        "early_stop = EarlyStopping(\n",
        "    monitor='val_AUC',  # or 'val_loss'\n",
        "    mode='max',         # because we want to maximize AUC\n",
        "    patience=5,         # stop if no improvement for 5 consecutive epochs\n",
        "    restore_best_weights=True  # revert to best epoch\n",
        ")\n",
        "\n",
        "###############################################################################\n",
        "# 12. TRAINING\n",
        "###############################################################################\n",
        "history = model.fit(\n",
        "    X_train_sm,\n",
        "    y_train_sm,\n",
        "    validation_data=(X_test_scaled, y_test),\n",
        "    epochs=20,           # big upper bound, early stopping typically stops earlier\n",
        "    batch_size=32,\n",
        "    callbacks=[early_stop],\n",
        "    class_weight=class_weights_dict,\n",
        "    verbose=1\n",
        ")\n",
        "\n",
        "import matplotlib.pyplot as plt\n",
        "\n",
        "# Check if AUC and val_AUC are in history\n",
        "if 'AUC' in history.history and 'val_AUC' in history.history:\n",
        "    epochs = range(1, len(history.history['AUC']) + 1)\n",
        "    plt.figure(figsize=(10, 6))\n",
        "\n",
        "    # Plot training and validation AUC\n",
        "    plt.plot(epochs, history.history['AUC'], label='Train AUC', marker='o')\n",
        "    plt.plot(epochs, history.history['val_AUC'], label='Validation AUC', marker='o')\n",
        "\n",
        "    # Add a horizontal baseline at AUC = 0.5 (random classifier baseline)\n",
        "    plt.axhline(y=0.5, color='gray', linestyle='--', label='Baseline AUC=0.5')\n",
        "\n",
        "    plt.title('AUC Over Epochs')\n",
        "    plt.xlabel('Epoch')\n",
        "    plt.ylabel('AUC')\n",
        "    plt.xticks(epochs)  # show each epoch on x-axis for clarity\n",
        "    plt.legend()\n",
        "    plt.grid(True)\n",
        "    plt.show()\n",
        "else:\n",
        "    print(\"AUC metrics not found in training history.\")\n",
        "\n",
        "\n",
        "###############################################################################\n",
        "# 13. EVALUATE ON HOLDOUT (X_test_scaled)\n",
        "###############################################################################\n",
        "y_test_pred_proba = model.predict(X_test_scaled).flatten()\n",
        "test_auc = roc_auc_score(y_test, y_test_pred_proba)\n",
        "print(f\"Holdout AUC: {test_auc:.4f}\")\n",
        "\n",
        "###############################################################################\n",
        "# 14. PREPARE VALIDATION DATA FOR SUBMISSION\n",
        "###############################################################################\n",
        "# 1) Convert validation_data_df to match same features\n",
        "# Drop 'predicted_probability' if it exists to ensure consistent columns\n",
        "X_val_orig = validation_data_df.drop(columns=['account_number', 'predicted_probability'], errors='ignore')\n",
        "\n",
        "# 2) Apply the same VarianceThreshold & correlation-based dropping\n",
        "X_val_lv = lv_thresh.transform(X_val_orig)          # Step 1: low-variance\n",
        "X_val_lv_df = pd.DataFrame(X_val_lv, columns=kept_cols_lv)\n",
        "X_val_corr = X_val_lv_df[kept_cols_corr].values     # Step 2: correlation-based prune\n",
        "\n",
        "# 3) Scale\n",
        "X_val_scaled = scaler.transform(X_val_corr)\n",
        "\n",
        "# 4) Predict\n",
        "val_probs = model.predict(X_val_scaled).flatten()\n",
        "validation_data_df['predicted_probability'] = val_probs\n",
        "\n",
        "submission_df = validation_data_df[['account_number', 'predicted_probability']]\n",
        "submission_df.to_csv('submission.csv', index=False)\n"
      ],
      "metadata": {
        "id": "M6xqZ0O-GTDo",
        "colab": {
          "base_uri": "https://localhost:8080/",
          "height": 1000
        },
        "outputId": "3b8a044a-b795-4fff-f1ec-86ff95af1d16"
      },
      "execution_count": 10,
      "outputs": [
        {
          "output_type": "stream",
          "name": "stderr",
          "text": [
            "<ipython-input-10-5183c1b88663>:14: FutureWarning: A value is trying to be set on a copy of a DataFrame or Series through chained assignment using an inplace method.\n",
            "The behavior will change in pandas 3.0. This inplace method will never work because the intermediate object on which we are setting values always behaves as a copy.\n",
            "\n",
            "For example, when doing 'df[col].method(value, inplace=True)', try using 'df.method({col: value}, inplace=True)' or df[col] = df[col].method(value) instead, to perform the operation inplace on the original object.\n",
            "\n",
            "\n",
            "  dev_data_df[col].fillna(median_value, inplace=True)\n",
            "<ipython-input-10-5183c1b88663>:15: FutureWarning: A value is trying to be set on a copy of a DataFrame or Series through chained assignment using an inplace method.\n",
            "The behavior will change in pandas 3.0. This inplace method will never work because the intermediate object on which we are setting values always behaves as a copy.\n",
            "\n",
            "For example, when doing 'df[col].method(value, inplace=True)', try using 'df.method({col: value}, inplace=True)' or df[col] = df[col].method(value) instead, to perform the operation inplace on the original object.\n",
            "\n",
            "\n",
            "  validation_data_df[col].fillna(median_value, inplace=True)\n",
            "<ipython-input-10-5183c1b88663>:20: FutureWarning: A value is trying to be set on a copy of a DataFrame or Series through chained assignment using an inplace method.\n",
            "The behavior will change in pandas 3.0. This inplace method will never work because the intermediate object on which we are setting values always behaves as a copy.\n",
            "\n",
            "For example, when doing 'df[col].method(value, inplace=True)', try using 'df.method({col: value}, inplace=True)' or df[col] = df[col].method(value) instead, to perform the operation inplace on the original object.\n",
            "\n",
            "\n",
            "  dev_data_df[col].fillna(mean_value, inplace=True)\n",
            "<ipython-input-10-5183c1b88663>:21: FutureWarning: A value is trying to be set on a copy of a DataFrame or Series through chained assignment using an inplace method.\n",
            "The behavior will change in pandas 3.0. This inplace method will never work because the intermediate object on which we are setting values always behaves as a copy.\n",
            "\n",
            "For example, when doing 'df[col].method(value, inplace=True)', try using 'df.method({col: value}, inplace=True)' or df[col] = df[col].method(value) instead, to perform the operation inplace on the original object.\n",
            "\n",
            "\n",
            "  validation_data_df[col].fillna(mean_value, inplace=True)\n",
            "<ipython-input-10-5183c1b88663>:26: FutureWarning: A value is trying to be set on a copy of a DataFrame or Series through chained assignment using an inplace method.\n",
            "The behavior will change in pandas 3.0. This inplace method will never work because the intermediate object on which we are setting values always behaves as a copy.\n",
            "\n",
            "For example, when doing 'df[col].method(value, inplace=True)', try using 'df.method({col: value}, inplace=True)' or df[col] = df[col].method(value) instead, to perform the operation inplace on the original object.\n",
            "\n",
            "\n",
            "  dev_data_df[col].fillna(median_value, inplace=True)\n",
            "<ipython-input-10-5183c1b88663>:27: FutureWarning: A value is trying to be set on a copy of a DataFrame or Series through chained assignment using an inplace method.\n",
            "The behavior will change in pandas 3.0. This inplace method will never work because the intermediate object on which we are setting values always behaves as a copy.\n",
            "\n",
            "For example, when doing 'df[col].method(value, inplace=True)', try using 'df.method({col: value}, inplace=True)' or df[col] = df[col].method(value) instead, to perform the operation inplace on the original object.\n",
            "\n",
            "\n",
            "  validation_data_df[col].fillna(median_value, inplace=True)\n"
          ]
        },
        {
          "output_type": "stream",
          "name": "stdout",
          "text": [
            "Feature Importance Ranking:\n",
            "\n",
            "onus_attribute_2: 0.0111\n",
            "onus_attribute_17: 0.0102\n",
            "bureau_439: 0.0087\n",
            "bureau_442: 0.0076\n",
            "bureau_441: 0.0075\n",
            "bureau_452: 0.0074\n",
            "bureau_429: 0.0073\n",
            "bureau_43: 0.0070\n",
            "bureau_432: 0.0070\n",
            "bureau_428: 0.0068\n",
            "bureau_59: 0.0066\n",
            "bureau_431: 0.0065\n",
            "bureau_397: 0.0065\n",
            "bureau_125: 0.0064\n",
            "bureau_415: 0.0063\n",
            "bureau_62: 0.0063\n",
            "bureau_66: 0.0062\n",
            "bureau_52: 0.0060\n",
            "bureau_64: 0.0058\n",
            "bureau_enquiry_31: 0.0057\n",
            "bureau_395: 0.0057\n",
            "bureau_445: 0.0057\n",
            "bureau_426: 0.0056\n",
            "bureau_42: 0.0056\n",
            "bureau_434: 0.0055\n",
            "bureau_65: 0.0055\n",
            "bureau_51: 0.0054\n",
            "bureau_9: 0.0054\n",
            "bureau_421: 0.0053\n",
            "bureau_137: 0.0053\n"
          ]
        },
        {
          "output_type": "stream",
          "name": "stderr",
          "text": [
            "/usr/local/lib/python3.10/dist-packages/sklearn/base.py:474: FutureWarning: `BaseEstimator._validate_data` is deprecated in 1.6 and will be removed in 1.7. Use `sklearn.utils.validation.validate_data` instead. This function becomes public and is part of the scikit-learn developer API.\n",
            "  warnings.warn(\n",
            "/usr/local/lib/python3.10/dist-packages/sklearn/utils/_tags.py:354: FutureWarning: The SMOTE or classes from which it inherits use `_get_tags` and `_more_tags`. Please define the `__sklearn_tags__` method, or inherit from `sklearn.base.BaseEstimator` and/or other appropriate mixins such as `sklearn.base.TransformerMixin`, `sklearn.base.ClassifierMixin`, `sklearn.base.RegressorMixin`, and `sklearn.base.OutlierMixin`. From scikit-learn 1.7, not defining `__sklearn_tags__` will raise an error.\n",
            "  warnings.warn(\n"
          ]
        },
        {
          "output_type": "stream",
          "name": "stdout",
          "text": [
            "Original training distribution:\n",
            "bad_flag\n",
            "0    76346\n",
            "1     1098\n",
            "Name: count, dtype: int64\n",
            "\n",
            "SMOTE training distribution:\n",
            "bad_flag\n",
            "0    76346\n",
            "1     3817\n",
            "Name: count, dtype: int64\n"
          ]
        },
        {
          "output_type": "stream",
          "name": "stderr",
          "text": [
            "/usr/local/lib/python3.10/dist-packages/keras/src/layers/core/dense.py:87: UserWarning: Do not pass an `input_shape`/`input_dim` argument to a layer. When using Sequential models, prefer using an `Input(shape)` object as the first layer in the model instead.\n",
            "  super().__init__(activity_regularizer=activity_regularizer, **kwargs)\n"
          ]
        },
        {
          "output_type": "stream",
          "name": "stdout",
          "text": [
            "Epoch 1/20\n",
            "\u001b[1m2506/2506\u001b[0m \u001b[32m━━━━━━━━━━━━━━━━━━━━\u001b[0m\u001b[37m\u001b[0m \u001b[1m14s\u001b[0m 4ms/step - AUC: 0.6953 - accuracy: 0.5551 - loss: 0.6939 - val_AUC: 0.8260 - val_accuracy: 0.6613 - val_loss: 0.5282\n",
            "Epoch 2/20\n",
            "\u001b[1m2506/2506\u001b[0m \u001b[32m━━━━━━━━━━━━━━━━━━━━\u001b[0m\u001b[37m\u001b[0m \u001b[1m6s\u001b[0m 2ms/step - AUC: 0.8198 - accuracy: 0.6879 - loss: 0.5399 - val_AUC: 0.8297 - val_accuracy: 0.7290 - val_loss: 0.4486\n",
            "Epoch 3/20\n",
            "\u001b[1m2506/2506\u001b[0m \u001b[32m━━━━━━━━━━━━━━━━━━━━\u001b[0m\u001b[37m\u001b[0m \u001b[1m10s\u001b[0m 2ms/step - AUC: 0.8439 - accuracy: 0.7206 - loss: 0.4979 - val_AUC: 0.8341 - val_accuracy: 0.7355 - val_loss: 0.5644\n",
            "Epoch 4/20\n",
            "\u001b[1m2506/2506\u001b[0m \u001b[32m━━━━━━━━━━━━━━━━━━━━\u001b[0m\u001b[37m\u001b[0m \u001b[1m10s\u001b[0m 2ms/step - AUC: 0.8575 - accuracy: 0.7283 - loss: 0.4829 - val_AUC: 0.8308 - val_accuracy: 0.7602 - val_loss: 0.7356\n",
            "Epoch 5/20\n",
            "\u001b[1m2506/2506\u001b[0m \u001b[32m━━━━━━━━━━━━━━━━━━━━\u001b[0m\u001b[37m\u001b[0m \u001b[1m6s\u001b[0m 3ms/step - AUC: 0.8778 - accuracy: 0.7393 - loss: 0.4559 - val_AUC: 0.8213 - val_accuracy: 0.7547 - val_loss: 0.9201\n",
            "Epoch 6/20\n",
            "\u001b[1m2506/2506\u001b[0m \u001b[32m━━━━━━━━━━━━━━━━━━━━\u001b[0m\u001b[37m\u001b[0m \u001b[1m6s\u001b[0m 2ms/step - AUC: 0.8834 - accuracy: 0.7477 - loss: 0.4460 - val_AUC: 0.8225 - val_accuracy: 0.7689 - val_loss: 0.8398\n",
            "Epoch 7/20\n",
            "\u001b[1m2506/2506\u001b[0m \u001b[32m━━━━━━━━━━━━━━━━━━━━\u001b[0m\u001b[37m\u001b[0m \u001b[1m11s\u001b[0m 3ms/step - AUC: 0.8883 - accuracy: 0.7465 - loss: 0.4372 - val_AUC: 0.8211 - val_accuracy: 0.7971 - val_loss: 0.6469\n",
            "Epoch 8/20\n",
            "\u001b[1m2506/2506\u001b[0m \u001b[32m━━━━━━━━━━━━━━━━━━━━\u001b[0m\u001b[37m\u001b[0m \u001b[1m5s\u001b[0m 2ms/step - AUC: 0.9019 - accuracy: 0.7738 - loss: 0.4073 - val_AUC: 0.8191 - val_accuracy: 0.7838 - val_loss: 0.5936\n"
          ]
        },
        {
          "output_type": "display_data",
          "data": {
            "text/plain": [
              "<Figure size 1000x600 with 1 Axes>"
            ],
            "image/png": "[encoded data removed]"
          },
          "metadata": {}
        },
        {
          "output_type": "stream",
          "name": "stdout",
          "text": [
            "\u001b[1m606/606\u001b[0m \u001b[32m━━━━━━━━━━━━━━━━━━━━\u001b[0m\u001b[37m\u001b[0m \u001b[1m1s\u001b[0m 1ms/step\n",
            "Holdout AUC: 0.8339\n",
            "\u001b[1m1306/1306\u001b[0m \u001b[32m━━━━━━━━━━━━━━━━━━━━\u001b[0m\u001b[37m\u001b[0m \u001b[1m2s\u001b[0m 1ms/step\n"
          ]
        },
        {
          "output_type": "stream",
          "name": "stderr",
          "text": [
            "<ipython-input-10-5183c1b88663>:212: PerformanceWarning: DataFrame is highly fragmented.  This is usually the result of calling `frame.insert` many times, which has poor performance.  Consider joining all columns at once using pd.concat(axis=1) instead. To get a de-fragmented frame, use `newframe = frame.copy()`\n",
            "  validation_data_df['predicted_probability'] = val_probs\n"
          ]
        }
      ]
    },
    {
      "cell_type": "markdown",
      "source": [
        "# Implementaion 1: Using ML\n"
      ],
      "metadata": {
        "id": "5OARFzyvECax"
      }
    },
    {
      "cell_type": "code",
      "source": [
        "df = dev_data_df.copy()\n",
        "print(df.shape)\n",
        "print(df.dtypes)\n",
        "print(df.info())\n",
        "##Based on some preliminary analysis it seems likely that onus_attribute_1 represents the Credit Limit\n",
        "temp_df_1 = df[~pd.isna(df['onus_attribute_1']) & df['bad_flag'] == 0]\n",
        "temp_df_2 = df[~pd.isna(df['onus_attribute_1']) & df['bad_flag'] == 1]\n",
        "\n",
        "plt.figure()  # Create a new figure\n",
        "sns.histplot(\n",
        "    data=temp_df_1,\n",
        "    x='onus_attribute_1',\n",
        "    bins=15,\n",
        "    kde=False,\n",
        "    hue='bad_flag',\n",
        "    palette='Set2',\n",
        "    edgecolor='black'\n",
        ")\n",
        "plt.title('Histogram of onus_attribute_1 (bad_flag = 0)')\n",
        "plt.xlabel('Values')\n",
        "plt.ylabel('Frequency')\n",
        "\n",
        "# Second plot for temp_df_2\n",
        "plt.figure()  # Create another new figure\n",
        "sns.histplot(\n",
        "    data=temp_df_2,\n",
        "    x='onus_attribute_1',\n",
        "    bins=15,\n",
        "    kde=False,\n",
        "    hue='bad_flag',\n",
        "    palette='Set2',\n",
        "    edgecolor='black'\n",
        ")\n",
        "plt.title('Histogram of onus_attribute_1 (bad_flag = 1)')\n",
        "plt.xlabel('Values')\n",
        "plt.ylabel('Frequency')\n",
        "\n",
        "# Show all plots\n",
        "plt.show()\n",
        "## Removing columns having more than 20 percent of the data missing\n",
        "df_cleaned = df.copy()\n",
        "threshold = 0.2\n",
        "for x in df_cleaned.columns:\n",
        "    if df_cleaned[x].isna().sum() > threshold*df_cleaned.shape[0]:\n",
        "        df_cleaned.drop(columns = x, inplace = True)\n",
        "        #Removing rows with only 1 unique value\n",
        "columns_to_drop = [col for col in df_cleaned.columns if df_cleaned[col].nunique() == 1]\n",
        "\n",
        "columns_to_drop\n",
        "df_cleaned.drop(columns = columns_to_drop, inplace = True)\n",
        "## Account Number wouldn't affect whether credit card is defaulted or not\n",
        "df_cleaned.drop(columns = \"account_number\", inplace = True)\n",
        "## List containing all the features which have sufficient data for analysis\n",
        "informative_columns = df_cleaned.columns[1:]\n",
        "print(informative_columns)\n",
        "print(df_cleaned.shape)\n",
        "print(df_cleaned.isna().sum())\n",
        "categorical_columns = ['bad_flag']\n",
        "df_cleaned = pd.get_dummies(df_cleaned,columns = categorical_columns, drop_first = True)\n",
        "# Separate columns by their prefixes\n",
        "onus_cols = [col for col in df_cleaned.columns if col.startswith(\"onus_attribute\")]\n",
        "bureau_enquiry_cols = [col for col in df_cleaned.columns if col.startswith(\"bureau_enquiry\")]\n",
        "bureau_cols = [col for col in df_cleaned.columns if col.startswith(\"bureau\")]\n",
        "\n",
        "# Impute onus_attributes with median (NaN only)\n",
        "for col in onus_cols:\n",
        "    median_value = df_cleaned[col].median()  # Calculate median (NaN values not included)\n",
        "    df_cleaned[col].fillna(median_value, inplace=True)\n",
        "\n",
        "# Impute bureau attributes with mean (NaN only)\n",
        "for col in bureau_cols:\n",
        "    mean_value = df_cleaned[col].mean()  # Calculate mean (NaN values not included)\n",
        "    df_cleaned[col].fillna(mean_value, inplace=True)\n",
        "# Impute bureau_enquiry attributes with median (NaN only)\n",
        "for col in bureau_enquiry_cols:\n",
        "    median_value = df_cleaned[col].median()  # Calculate median (NaN values not included)\n",
        "    df_cleaned[col].fillna(median_value, inplace=True)\n",
        "\n",
        "df_cleaned.fillna(0, inplace=True)\n",
        "##Splitting train and test data\n",
        "from sklearn.model_selection import train_test_split\n",
        "from sklearn.preprocessing import StandardScaler\n",
        "scaler = StandardScaler()\n",
        "X = df_cleaned.drop('bad_flag_1', axis = 1)\n",
        "y = df_cleaned['bad_flag_1']\n",
        "X = scaler.fit_transform(X)\n",
        "X_train, X_test, y_train, y_test = train_test_split(X,y,test_size = 0.2, random_state = 69)\n",
        "from imblearn.over_sampling import SMOTE\n",
        "from collections import Counter\n",
        "print(\"Original Dataset Counter : \", Counter(y_train))\n",
        "smote = SMOTE(random_state = 69)\n",
        "X_train_smote, y_train_smote = smote.fit_resample(X_train, y_train)\n",
        "print(\"Random Oversampling Counter : \", Counter(y_train_smote))\n",
        "from sklearn.linear_model import LogisticRegression\n",
        "from sklearn.metrics import accuracy_score, classification_report\n",
        "logistic_regression_model = LogisticRegression(C = 0.01, max_iter = 1000)\n",
        "logistic_regression_model.fit(X_train_smote,y_train_smote)\n",
        "y_pred_logistic_regression = logistic_regression_model.predict(X_test)\n",
        "accuracy_score(y_test,y_pred_logistic_regression)\n",
        "feature_names = list(df_cleaned.columns)\n",
        "feature_names.remove(\"bad_flag_1\")  # Assuming X is your feature matrix with column names\n",
        "coefficients = logistic_regression_model.coef_[0]\n",
        "\n",
        "# Create DataFrame of features and their coefficients\n",
        "coef_df = pd.DataFrame({\n",
        "    'feature': feature_names,\n",
        "    'coefficient': coefficients\n",
        "})\n",
        "\n",
        "# Sort by absolute coefficient values to get most important features\n",
        "coef_df['abs_coef'] = abs(coef_df['coefficient'])\n",
        "top_25_features = coef_df.nlargest(25, 'abs_coef')\n",
        "top_25_features = top_25_features.sort_values('coefficient')\n",
        "plt.figure(figsize=(12, 8))\n",
        "bars = plt.barh(np.arange(len(top_25_features)), top_25_features['coefficient'])\n",
        "plt.yticks(np.arange(len(top_25_features)), top_25_features['feature'], fontsize=10)\n",
        "plt.xlabel('Coefficient Value')\n",
        "plt.title('Top 25 Feature Coefficients in Logistic Regression Model')\n",
        "\n",
        "# Color code bars based on positive/negative values\n",
        "for bar in bars:\n",
        "    if bar.get_width() < 0:\n",
        "        bar.set_color('red')\n",
        "    else:\n",
        "        bar.set_color('blue')\n",
        "\n",
        "plt.tight_layout()\n",
        "plt.show()\n",
        "selected_features = top_25_features['feature'].tolist()\n",
        "X_top25 = df_cleaned[selected_features]\n",
        "X_top25 = scaler.fit_transform(X_top25)\n",
        "X_train_top25, X_test_top25, y_train_top25, y_test_top25 = train_test_split(X_top25,y,test_size = 0.2, random_state = 69)\n",
        "print(\"Original Dataset Counter : \", Counter(y_train_top25))\n",
        "smote = SMOTE(random_state = 69)\n",
        "X_train_top25_smote, y_train_top25_smote = smote.fit_resample(X_train_top25, y_train_top25)\n",
        "print(\"Random Oversampling Counter : \", Counter(y_train_top25_smote))\n",
        "\n",
        "# Train new model\n",
        "top_25_logistic_regression_model = LogisticRegression(C=0.01, max_iter=1000)\n",
        "top_25_logistic_regression_model.fit(X_train_top25_smote, y_train_top25_smote)\n",
        "from sklearn.ensemble import RandomForestClassifier\n",
        "rf_model = RandomForestClassifier(\n",
        "    n_estimators=100,        # Number of trees\n",
        "    max_features='sqrt',     # Features considered per split\n",
        "    max_depth=15,            # Tree depth\n",
        "    min_samples_split=10,    # Minimum samples to split\n",
        "    min_samples_leaf=2,      # Minimum samples in leaf nodes\n",
        "    bootstrap=True,          # Bootstrap sampling\n",
        "    random_state=69          # Reproducibility\n",
        ")\n",
        "\n",
        "# Train the model\n",
        "rf_model.fit(X_train_top25_smote, y_train_top25_smote)\n",
        "y_pred_rf = rf_model(X_test_top25)\n",
        "accuracy_rf = rf_model.score(y_test_top25, y_pred_rf)\n",
        "print(\"Model Accuracy:\", accuracy_rf)\n",
        "from sklearn.ensemble import AdaBoostClassifier\n",
        "from sklearn.tree import DecisionTreeClassifier\n",
        "model_ada = AdaBoostClassifier(estimator = DecisionTreeClassifier(max_depth = 5, min_samples_split = 500, min_samples_leaf = 250), random_state = 69, learning_rate = 0.01, n_estimators = 50)\n",
        "model_ada.fit(X_train_top25_smote,y_train_top25_smote)\n",
        "y_pred_ada = model_ada.predict(X_test_top25)\n",
        "accuracy_ada = rf_model.score(X_test_top25, y_test_top25)\n",
        "print(\"Model Accuracy:\", accuracy_rf)\n",
        "from sklearn.metrics import roc_curve, auc\n",
        "def categorize_risk(prob):\n",
        "    if prob < 0.20:\n",
        "        return 'Safe'\n",
        "    elif 0.20 <= prob < 0.60:\n",
        "        return 'Low-Risk'\n",
        "    elif 0.60 <= prob < 0.90:\n",
        "        return 'Medium-Risk'\n",
        "    else:\n",
        "        return 'High-Risk'\n",
        "from sklearn.calibration import CalibratedClassifierCV\n",
        "\n",
        "calibrated_model = CalibratedClassifierCV(estimator=rf_model, cv='prefit')\n",
        "calibrated_model.fit(X_train_smote, y_train_smote)\n",
        "test_df = X_test.copy()\n",
        "test_df['Turnover_Probability'] = calibrated_model.predict_proba(X_test)[:,1]\n",
        "test_df['Risk_Category'] = test_df['Turnover_Probability'].apply(categorize_risk)\n",
        "category_counts = test_df['Risk_Category'].value_counts()\n",
        "\n",
        "# Plot the distribution\n",
        "sns.barplot(x=category_counts.index, y=category_counts.values, palette=['green','yellow','red','orange'])\n",
        "plt.title('Employee Turnover Risk Categorization')\n",
        "plt.xlabel('Risk Category')\n",
        "plt.ylabel('Number of Employees')\n",
        "plt.xticks(rotation=15)\n",
        "plt.show()"
      ],
      "metadata": {
        "colab": {
          "base_uri": "https://localhost:8080/",
          "height": 356
        },
        "id": "E-i-BheKBUXd",
        "outputId": "ca1b6edf-1fae-4f33-d1fc-d690b09cecdc"
      },
      "execution_count": 11,
      "outputs": [
        {
          "output_type": "error",
          "ename": "KeyboardInterrupt",
          "evalue": "",
          "traceback": [
            "\u001b[0;31m---------------------------------------------------------------------------\u001b[0m",
            "\u001b[0;31mKeyboardInterrupt\u001b[0m                         Traceback (most recent call last)",
            "\u001b[0;32m<ipython-input-11-2b66f7a24caa>\u001b[0m in \u001b[0;36m<cell line: 1>\u001b[0;34m()\u001b[0m\n\u001b[0;32m----> 1\u001b[0;31m \u001b[0mdf\u001b[0m \u001b[0;34m=\u001b[0m \u001b[0mdev_data_df\u001b[0m\u001b[0;34m.\u001b[0m\u001b[0mcopy\u001b[0m\u001b[0;34m(\u001b[0m\u001b[0;34m)\u001b[0m\u001b[0;34m\u001b[0m\u001b[0;34m\u001b[0m\u001b[0m\n\u001b[0m\u001b[1;32m      2\u001b[0m \u001b[0mprint\u001b[0m\u001b[0;34m(\u001b[0m\u001b[0mdf\u001b[0m\u001b[0;34m.\u001b[0m\u001b[0mshape\u001b[0m\u001b[0;34m)\u001b[0m\u001b[0;34m\u001b[0m\u001b[0;34m\u001b[0m\u001b[0m\n\u001b[1;32m      3\u001b[0m \u001b[0mprint\u001b[0m\u001b[0;34m(\u001b[0m\u001b[0mdf\u001b[0m\u001b[0;34m.\u001b[0m\u001b[0mdtypes\u001b[0m\u001b[0;34m)\u001b[0m\u001b[0;34m\u001b[0m\u001b[0;34m\u001b[0m\u001b[0m\n\u001b[1;32m      4\u001b[0m \u001b[0mprint\u001b[0m\u001b[0;34m(\u001b[0m\u001b[0mdf\u001b[0m\u001b[0;34m.\u001b[0m\u001b[0minfo\u001b[0m\u001b[0;34m(\u001b[0m\u001b[0;34m)\u001b[0m\u001b[0;34m)\u001b[0m\u001b[0;34m\u001b[0m\u001b[0;34m\u001b[0m\u001b[0m\n\u001b[1;32m      5\u001b[0m \u001b[0;31m##Based on some preliminary analysis it seems likely that onus_attribute_1 represents the Credit Limit\u001b[0m\u001b[0;34m\u001b[0m\u001b[0;34m\u001b[0m\u001b[0m\n",
            "\u001b[0;32m/usr/local/lib/python3.10/dist-packages/pandas/core/generic.py\u001b[0m in \u001b[0;36mcopy\u001b[0;34m(self, deep)\u001b[0m\n\u001b[1;32m   6809\u001b[0m         \u001b[0mdtype\u001b[0m\u001b[0;34m:\u001b[0m \u001b[0mint64\u001b[0m\u001b[0;34m\u001b[0m\u001b[0;34m\u001b[0m\u001b[0m\n\u001b[1;32m   6810\u001b[0m         \"\"\"\n\u001b[0;32m-> 6811\u001b[0;31m         \u001b[0mdata\u001b[0m \u001b[0;34m=\u001b[0m \u001b[0mself\u001b[0m\u001b[0;34m.\u001b[0m\u001b[0m_mgr\u001b[0m\u001b[0;34m.\u001b[0m\u001b[0mcopy\u001b[0m\u001b[0;34m(\u001b[0m\u001b[0mdeep\u001b[0m\u001b[0;34m=\u001b[0m\u001b[0mdeep\u001b[0m\u001b[0;34m)\u001b[0m\u001b[0;34m\u001b[0m\u001b[0;34m\u001b[0m\u001b[0m\n\u001b[0m\u001b[1;32m   6812\u001b[0m         \u001b[0mself\u001b[0m\u001b[0;34m.\u001b[0m\u001b[0m_clear_item_cache\u001b[0m\u001b[0;34m(\u001b[0m\u001b[0;34m)\u001b[0m\u001b[0;34m\u001b[0m\u001b[0;34m\u001b[0m\u001b[0m\n\u001b[1;32m   6813\u001b[0m         return self._constructor_from_mgr(data, axes=data.axes).__finalize__(\n",
            "\u001b[0;32m/usr/local/lib/python3.10/dist-packages/pandas/core/internals/managers.py\u001b[0m in \u001b[0;36mcopy\u001b[0;34m(self, deep)\u001b[0m\n\u001b[1;32m    602\u001b[0m \u001b[0;34m\u001b[0m\u001b[0m\n\u001b[1;32m    603\u001b[0m         \u001b[0;32mif\u001b[0m \u001b[0mdeep\u001b[0m\u001b[0;34m:\u001b[0m\u001b[0;34m\u001b[0m\u001b[0;34m\u001b[0m\u001b[0m\n\u001b[0;32m--> 604\u001b[0;31m             \u001b[0mres\u001b[0m\u001b[0;34m.\u001b[0m\u001b[0m_consolidate_inplace\u001b[0m\u001b[0;34m(\u001b[0m\u001b[0;34m)\u001b[0m\u001b[0;34m\u001b[0m\u001b[0;34m\u001b[0m\u001b[0m\n\u001b[0m\u001b[1;32m    605\u001b[0m         \u001b[0;32mreturn\u001b[0m \u001b[0mres\u001b[0m\u001b[0;34m\u001b[0m\u001b[0;34m\u001b[0m\u001b[0m\n\u001b[1;32m    606\u001b[0m \u001b[0;34m\u001b[0m\u001b[0m\n",
            "\u001b[0;32m/usr/local/lib/python3.10/dist-packages/pandas/core/internals/managers.py\u001b[0m in \u001b[0;36m_consolidate_inplace\u001b[0;34m(self)\u001b[0m\n\u001b[1;32m   1786\u001b[0m         \u001b[0;31m#  BlockManager objects not yet attached to a DataFrame.\u001b[0m\u001b[0;34m\u001b[0m\u001b[0;34m\u001b[0m\u001b[0m\n\u001b[1;32m   1787\u001b[0m         \u001b[0;32mif\u001b[0m \u001b[0;32mnot\u001b[0m \u001b[0mself\u001b[0m\u001b[0;34m.\u001b[0m\u001b[0mis_consolidated\u001b[0m\u001b[0;34m(\u001b[0m\u001b[0;34m)\u001b[0m\u001b[0;34m:\u001b[0m\u001b[0;34m\u001b[0m\u001b[0;34m\u001b[0m\u001b[0m\n\u001b[0;32m-> 1788\u001b[0;31m             \u001b[0mself\u001b[0m\u001b[0;34m.\u001b[0m\u001b[0mblocks\u001b[0m \u001b[0;34m=\u001b[0m \u001b[0m_consolidate\u001b[0m\u001b[0;34m(\u001b[0m\u001b[0mself\u001b[0m\u001b[0;34m.\u001b[0m\u001b[0mblocks\u001b[0m\u001b[0;34m)\u001b[0m\u001b[0;34m\u001b[0m\u001b[0;34m\u001b[0m\u001b[0m\n\u001b[0m\u001b[1;32m   1789\u001b[0m             \u001b[0mself\u001b[0m\u001b[0;34m.\u001b[0m\u001b[0m_is_consolidated\u001b[0m \u001b[0;34m=\u001b[0m \u001b[0;32mTrue\u001b[0m\u001b[0;34m\u001b[0m\u001b[0;34m\u001b[0m\u001b[0m\n\u001b[1;32m   1790\u001b[0m             \u001b[0mself\u001b[0m\u001b[0;34m.\u001b[0m\u001b[0m_known_consolidated\u001b[0m \u001b[0;34m=\u001b[0m \u001b[0;32mTrue\u001b[0m\u001b[0;34m\u001b[0m\u001b[0;34m\u001b[0m\u001b[0m\n",
            "\u001b[0;32m/usr/local/lib/python3.10/dist-packages/pandas/core/internals/managers.py\u001b[0m in \u001b[0;36m_consolidate\u001b[0;34m(blocks)\u001b[0m\n\u001b[1;32m   2267\u001b[0m     \u001b[0mnew_blocks\u001b[0m\u001b[0;34m:\u001b[0m \u001b[0mlist\u001b[0m\u001b[0;34m[\u001b[0m\u001b[0mBlock\u001b[0m\u001b[0;34m]\u001b[0m \u001b[0;34m=\u001b[0m \u001b[0;34m[\u001b[0m\u001b[0;34m]\u001b[0m\u001b[0;34m\u001b[0m\u001b[0;34m\u001b[0m\u001b[0m\n\u001b[1;32m   2268\u001b[0m     \u001b[0;32mfor\u001b[0m \u001b[0;34m(\u001b[0m\u001b[0m_can_consolidate\u001b[0m\u001b[0;34m,\u001b[0m \u001b[0mdtype\u001b[0m\u001b[0;34m)\u001b[0m\u001b[0;34m,\u001b[0m \u001b[0mgroup_blocks\u001b[0m \u001b[0;32min\u001b[0m \u001b[0mgrouper\u001b[0m\u001b[0;34m:\u001b[0m\u001b[0;34m\u001b[0m\u001b[0;34m\u001b[0m\u001b[0m\n\u001b[0;32m-> 2269\u001b[0;31m         merged_blocks, _ = _merge_blocks(\n\u001b[0m\u001b[1;32m   2270\u001b[0m             \u001b[0mlist\u001b[0m\u001b[0;34m(\u001b[0m\u001b[0mgroup_blocks\u001b[0m\u001b[0;34m)\u001b[0m\u001b[0;34m,\u001b[0m \u001b[0mdtype\u001b[0m\u001b[0;34m=\u001b[0m\u001b[0mdtype\u001b[0m\u001b[0;34m,\u001b[0m \u001b[0mcan_consolidate\u001b[0m\u001b[0;34m=\u001b[0m\u001b[0m_can_consolidate\u001b[0m\u001b[0;34m\u001b[0m\u001b[0;34m\u001b[0m\u001b[0m\n\u001b[1;32m   2271\u001b[0m         )\n",
            "\u001b[0;32m/usr/local/lib/python3.10/dist-packages/pandas/core/internals/managers.py\u001b[0m in \u001b[0;36m_merge_blocks\u001b[0;34m(blocks, dtype, can_consolidate)\u001b[0m\n\u001b[1;32m   2292\u001b[0m             \u001b[0;31m# Sequence[Union[int, float, complex, str, bytes, generic]],\u001b[0m\u001b[0;34m\u001b[0m\u001b[0;34m\u001b[0m\u001b[0m\n\u001b[1;32m   2293\u001b[0m             \u001b[0;31m# Sequence[Sequence[Any]], SupportsArray]]\u001b[0m\u001b[0;34m\u001b[0m\u001b[0;34m\u001b[0m\u001b[0m\n\u001b[0;32m-> 2294\u001b[0;31m             \u001b[0mnew_values\u001b[0m \u001b[0;34m=\u001b[0m \u001b[0mnp\u001b[0m\u001b[0;34m.\u001b[0m\u001b[0mvstack\u001b[0m\u001b[0;34m(\u001b[0m\u001b[0;34m[\u001b[0m\u001b[0mb\u001b[0m\u001b[0;34m.\u001b[0m\u001b[0mvalues\u001b[0m \u001b[0;32mfor\u001b[0m \u001b[0mb\u001b[0m \u001b[0;32min\u001b[0m \u001b[0mblocks\u001b[0m\u001b[0;34m]\u001b[0m\u001b[0;34m)\u001b[0m  \u001b[0;31m# type: ignore[misc]\u001b[0m\u001b[0;34m\u001b[0m\u001b[0;34m\u001b[0m\u001b[0m\n\u001b[0m\u001b[1;32m   2295\u001b[0m         \u001b[0;32melse\u001b[0m\u001b[0;34m:\u001b[0m\u001b[0;34m\u001b[0m\u001b[0;34m\u001b[0m\u001b[0m\n\u001b[1;32m   2296\u001b[0m             \u001b[0mbvals\u001b[0m \u001b[0;34m=\u001b[0m \u001b[0;34m[\u001b[0m\u001b[0mblk\u001b[0m\u001b[0;34m.\u001b[0m\u001b[0mvalues\u001b[0m \u001b[0;32mfor\u001b[0m \u001b[0mblk\u001b[0m \u001b[0;32min\u001b[0m \u001b[0mblocks\u001b[0m\u001b[0;34m]\u001b[0m\u001b[0;34m\u001b[0m\u001b[0;34m\u001b[0m\u001b[0m\n",
            "\u001b[0;32m/usr/local/lib/python3.10/dist-packages/numpy/core/shape_base.py\u001b[0m in \u001b[0;36mvstack\u001b[0;34m(tup, dtype, casting)\u001b[0m\n\u001b[1;32m    287\u001b[0m     \u001b[0;32mif\u001b[0m \u001b[0;32mnot\u001b[0m \u001b[0misinstance\u001b[0m\u001b[0;34m(\u001b[0m\u001b[0marrs\u001b[0m\u001b[0;34m,\u001b[0m \u001b[0mlist\u001b[0m\u001b[0;34m)\u001b[0m\u001b[0;34m:\u001b[0m\u001b[0;34m\u001b[0m\u001b[0;34m\u001b[0m\u001b[0m\n\u001b[1;32m    288\u001b[0m         \u001b[0marrs\u001b[0m \u001b[0;34m=\u001b[0m \u001b[0;34m[\u001b[0m\u001b[0marrs\u001b[0m\u001b[0;34m]\u001b[0m\u001b[0;34m\u001b[0m\u001b[0;34m\u001b[0m\u001b[0m\n\u001b[0;32m--> 289\u001b[0;31m     \u001b[0;32mreturn\u001b[0m \u001b[0m_nx\u001b[0m\u001b[0;34m.\u001b[0m\u001b[0mconcatenate\u001b[0m\u001b[0;34m(\u001b[0m\u001b[0marrs\u001b[0m\u001b[0;34m,\u001b[0m \u001b[0;36m0\u001b[0m\u001b[0;34m,\u001b[0m \u001b[0mdtype\u001b[0m\u001b[0;34m=\u001b[0m\u001b[0mdtype\u001b[0m\u001b[0;34m,\u001b[0m \u001b[0mcasting\u001b[0m\u001b[0;34m=\u001b[0m\u001b[0mcasting\u001b[0m\u001b[0;34m)\u001b[0m\u001b[0;34m\u001b[0m\u001b[0;34m\u001b[0m\u001b[0m\n\u001b[0m\u001b[1;32m    290\u001b[0m \u001b[0;34m\u001b[0m\u001b[0m\n\u001b[1;32m    291\u001b[0m \u001b[0;34m\u001b[0m\u001b[0m\n",
            "\u001b[0;31mKeyboardInterrupt\u001b[0m: "
          ]
        }
      ]
    },
    {
      "cell_type": "markdown",
      "source": [
        "## EDA"
      ],
      "metadata": {
        "id": "JTKO4au5s3IJ"
      }
    },
    {
      "cell_type": "code",
      "source": [
        "df = dev_data_df.copy()"
      ],
      "metadata": {
        "id": "UVmfO2aWBpqC"
      },
      "execution_count": null,
      "outputs": []
    },
    {
      "cell_type": "code",
      "source": [
        "df.shape"
      ],
      "metadata": {
        "id": "cJIght4As23d"
      },
      "execution_count": null,
      "outputs": []
    },
    {
      "cell_type": "code",
      "source": [
        "df.dtypes"
      ],
      "metadata": {
        "id": "jBsjyk4StCGN"
      },
      "execution_count": null,
      "outputs": []
    },
    {
      "cell_type": "code",
      "source": [
        "df.info()"
      ],
      "metadata": {
        "id": "9flX9UqZtvQv"
      },
      "execution_count": null,
      "outputs": []
    },
    {
      "cell_type": "code",
      "source": [
        "import matplotlib.pyplot as plt\n",
        "temp_df_1 = df[~pd.isna(df['onus_attribute_1']) & df['bad_flag'] == 0]\n",
        "temp_df_2 = df[~pd.isna(df['onus_attribute_1']) & df['bad_flag'] == 1]\n",
        "\n",
        "plt.figure()  # Create a new figure\n",
        "sns.histplot(\n",
        "    data=temp_df_1,\n",
        "    x='onus_attribute_1',\n",
        "    bins=15,\n",
        "    kde=False,\n",
        "    hue='bad_flag',\n",
        "    palette='Set2',\n",
        "    edgecolor='black'\n",
        ")\n",
        "plt.title('Histogram of onus_attribute_1 (bad_flag = 0)')\n",
        "plt.xlabel('Values')\n",
        "plt.ylabel('Frequency')\n",
        "\n",
        "# Second plot for temp_df_2\n",
        "plt.figure()  # Create another new figure\n",
        "sns.histplot(\n",
        "    data=temp_df_2,\n",
        "    x='onus_attribute_1',\n",
        "    bins=15,\n",
        "    kde=False,\n",
        "    hue='bad_flag',\n",
        "    palette='Set2',\n",
        "    edgecolor='black'\n",
        ")\n",
        "plt.title('Histogram of onus_attribute_1 (bad_flag = 1)')\n",
        "plt.xlabel('Values')\n",
        "plt.ylabel('Frequency')\n",
        "\n",
        "# Show all plots\n",
        "plt.show()"
      ],
      "metadata": {
        "id": "dFRI-Thotwx2"
      },
      "execution_count": null,
      "outputs": []
    },
    {
      "cell_type": "markdown",
      "source": [
        "From the above plots we can conclude that there is a higher chance of defaulting at lower onus_attribute_1(Credit Limit)"
      ],
      "metadata": {
        "id": "9hse22JbuHQO"
      }
    },
    {
      "cell_type": "markdown",
      "source": [
        "Now we'll only consider features with less than 20 percent NaN values"
      ],
      "metadata": {
        "id": "Fy0eulisuV9v"
      }
    },
    {
      "cell_type": "code",
      "source": [
        "## Removing columns having more than 20 percent of the data missing\n",
        "df_cleaned = df.copy()\n",
        "threshold = 0.2\n",
        "for x in df_cleaned.columns:\n",
        "    if df_cleaned[x].isna().sum() > threshold*df_cleaned.shape[0]:\n",
        "        df_cleaned.drop(columns = x, inplace = True)"
      ],
      "metadata": {
        "id": "Lt9hYX6ttzwK"
      },
      "execution_count": null,
      "outputs": []
    },
    {
      "cell_type": "markdown",
      "source": [
        "We'll also get rid of columns having only 1 unique value"
      ],
      "metadata": {
        "id": "qHVwRQifuiyZ"
      }
    },
    {
      "cell_type": "code",
      "source": [
        "#Removing rows with only 1 unique value\n",
        "columns_to_drop = [col for col in df_cleaned.columns if df_cleaned[col].nunique() == 1]\n",
        "\n",
        "columns_to_drop"
      ],
      "metadata": {
        "id": "GOC0L_3bufQ_"
      },
      "execution_count": null,
      "outputs": []
    },
    {
      "cell_type": "code",
      "source": [
        "df_cleaned.drop(columns = columns_to_drop, inplace = True)"
      ],
      "metadata": {
        "id": "ploHVhCmuqV3"
      },
      "execution_count": null,
      "outputs": []
    },
    {
      "cell_type": "markdown",
      "source": [
        "\n",
        "Obviously the probablity of defaulting won't depend on the Account number"
      ],
      "metadata": {
        "id": "dEgxNfb5ussn"
      }
    },
    {
      "cell_type": "code",
      "source": [
        "## Account Number wouldn't affect whether credit card is defaulted or not\n",
        "df_cleaned.drop(columns = \"account_number\", inplace = True)\n",
        "df_cleaned.head()"
      ],
      "metadata": {
        "id": "h_2kYKSzusNb"
      },
      "execution_count": null,
      "outputs": []
    },
    {
      "cell_type": "code",
      "source": [
        "## List containing all the features which have sufficient data for analysis\n",
        "informative_columns = df_cleaned.columns[1:]\n",
        "informative_columns"
      ],
      "metadata": {
        "id": "Q2BPoFMVu6fo"
      },
      "execution_count": null,
      "outputs": []
    },
    {
      "cell_type": "code",
      "source": [
        "df_cleaned.shape"
      ],
      "metadata": {
        "id": "VNEu8Owtu-w5"
      },
      "execution_count": null,
      "outputs": []
    },
    {
      "cell_type": "code",
      "source": [
        "df_cleaned.isna().sum()"
      ],
      "metadata": {
        "id": "OyZDyw5PvAwG"
      },
      "execution_count": null,
      "outputs": []
    },
    {
      "cell_type": "code",
      "source": [
        "categorical_columns = ['bad_flag']\n",
        "df_cleaned = pd.get_dummies(df_cleaned,columns = categorical_columns, drop_first = True)\n",
        "df_cleaned.head()"
      ],
      "metadata": {
        "id": "0TdzUS9_vB3B"
      },
      "execution_count": null,
      "outputs": []
    },
    {
      "cell_type": "markdown",
      "source": [
        "Now we'll impute the values depending on the attribute so that they can be passed for training"
      ],
      "metadata": {
        "id": "uFx3FP0IvGbG"
      }
    },
    {
      "cell_type": "code",
      "source": [
        "# Separate columns by their prefixes\n",
        "onus_cols = [col for col in df_cleaned.columns if col.startswith(\"onus_attribute\")]\n",
        "bureau_enquiry_cols = [col for col in df_cleaned.columns if col.startswith(\"bureau_enquiry\")]\n",
        "bureau_cols = [col for col in df_cleaned.columns if col.startswith(\"bureau\")]\n",
        "\n",
        "# Impute onus_attributes with median (NaN only)\n",
        "for col in onus_cols:\n",
        "    median_value = df_cleaned[col].median()  # Calculate median (NaN values not included)\n",
        "    df_cleaned[col].fillna(median_value, inplace=True)\n",
        "\n",
        "# Impute bureau attributes with mean (NaN only)\n",
        "for col in bureau_cols:\n",
        "    mean_value = df_cleaned[col].mean()  # Calculate mean (NaN values not included)\n",
        "    df_cleaned[col].fillna(mean_value, inplace=True)\n",
        "# Impute bureau_enquiry attributes with median (NaN only)\n",
        "for col in bureau_enquiry_cols:\n",
        "    median_value = df_cleaned[col].median()  # Calculate median (NaN values not included)\n",
        "    df_cleaned[col].fillna(median_value, inplace=True)\n",
        "\n",
        "df_cleaned.fillna(0, inplace=True)"
      ],
      "metadata": {
        "id": "hIj7tHnMvDwB"
      },
      "execution_count": null,
      "outputs": []
    },
    {
      "cell_type": "code",
      "source": [
        "##Splitting train and test data\n",
        "from sklearn.model_selection import train_test_split\n",
        "from sklearn.preprocessing import StandardScaler\n",
        "scaler = StandardScaler()\n",
        "X = df_cleaned.drop('bad_flag_1', axis = 1)\n",
        "y = df_cleaned['bad_flag_1']\n",
        "X = scaler.fit_transform(X)\n",
        "X_train, X_test, y_train, y_test = train_test_split(X,y,stratify = y,test_size = 0.2, random_state = 69)"
      ],
      "metadata": {
        "id": "PjtgDzOxvQ8D"
      },
      "execution_count": null,
      "outputs": []
    },
    {
      "cell_type": "code",
      "source": [
        "from imblearn.over_sampling import SMOTE\n",
        "from collections import Counter\n",
        "print(\"Original Dataset Counter : \", Counter(y_train))\n",
        "smote = SMOTE(random_state = 69)\n",
        "X_train_smote, y_train_smote = smote.fit_resample(X_train, y_train)\n",
        "print(\"Random Oversampling Counter : \", Counter(y_train_smote))"
      ],
      "metadata": {
        "id": "eaQueVsGvU6e"
      },
      "execution_count": null,
      "outputs": []
    },
    {
      "cell_type": "markdown",
      "source": [
        "## Training a Logistic Regression Model on the selected features"
      ],
      "metadata": {
        "id": "YXt15zhgvgjT"
      }
    },
    {
      "cell_type": "code",
      "source": [
        "from sklearn.linear_model import LogisticRegression\n",
        "from sklearn.metrics import accuracy_score, classification_report"
      ],
      "metadata": {
        "id": "91-42hwrvXqf"
      },
      "execution_count": null,
      "outputs": []
    },
    {
      "cell_type": "code",
      "source": [
        "logistic_regression_model = LogisticRegression(C = 0.01, max_iter = 1000)\n",
        "logistic_regression_model.fit(X_train_smote,y_train_smote)"
      ],
      "metadata": {
        "id": "Pdg4VMH4vaL2"
      },
      "execution_count": null,
      "outputs": []
    },
    {
      "cell_type": "code",
      "source": [
        "y_pred_logistic_regression = logistic_regression_model.predict(X_test)"
      ],
      "metadata": {
        "id": "413Vi618vb2b"
      },
      "execution_count": null,
      "outputs": []
    },
    {
      "cell_type": "code",
      "source": [
        "accuracy_logistic_regression = accuracy_score(y_test,y_pred_logistic_regression)\n",
        "print(\"Logistic Regression Accuracy:\", accuracy_logistic_regression)"
      ],
      "metadata": {
        "id": "Tfwufy7kvekB"
      },
      "execution_count": null,
      "outputs": []
    },
    {
      "cell_type": "code",
      "source": [
        "from sklearn.metrics import roc_curve, auc"
      ],
      "metadata": {
        "id": "RC5lfDh4weyL"
      },
      "execution_count": null,
      "outputs": []
    },
    {
      "cell_type": "markdown",
      "source": [
        "### ROC-AUC curve for the logistic regression model"
      ],
      "metadata": {
        "id": "tHWgRRGDwoM4"
      }
    },
    {
      "cell_type": "code",
      "source": [
        "fpr_linear, tpr_linear, thresholds_linear = roc_curve(y_test, y_pred_logistic_regression)\n",
        "roc_auc = auc(fpr_linear,tpr_linear)\n",
        "plt.figure(figsize=(8, 6))\n",
        "plt.plot(fpr_linear, tpr_linear, color='darkorange', lw=2, label=f'ROC curve (AUC = {roc_auc:.2f})')\n",
        "plt.plot([0, 1], [0, 1], color='navy', lw=2, linestyle='--')  # Diagonal line\n",
        "plt.xlabel('False Positive Rate')\n",
        "plt.ylabel('True Positive Rate')\n",
        "plt.title('Receiver Operating Characteristic (ROC) Curve for Linear Regression Model')\n",
        "plt.legend(loc=\"lower right\")\n",
        "plt.show()"
      ],
      "metadata": {
        "id": "DvmOpTdAwjpl"
      },
      "execution_count": null,
      "outputs": []
    },
    {
      "cell_type": "markdown",
      "source": [
        "Now we'll only try and consider the top 50 feature from Linear Regression to Train the following models"
      ],
      "metadata": {
        "id": "HaWbkOif3jyx"
      }
    },
    {
      "cell_type": "code",
      "source": [
        "feature_names = list(df_cleaned.columns)\n",
        "feature_names.remove(\"bad_flag_1\")  # Assuming X is your feature matrix with column names\n",
        "coefficients = logistic_regression_model.coef_[0]\n",
        "\n",
        "# Create DataFrame of features and their coefficients\n",
        "coef_df = pd.DataFrame({\n",
        "    'feature': feature_names,\n",
        "    'coefficient': coefficients\n",
        "})\n",
        "\n",
        "# Sort by absolute coefficient values to get most important features\n",
        "coef_df['abs_coef'] = abs(coef_df['coefficient'])\n",
        "top_features = coef_df.nlargest(50, 'abs_coef')\n",
        "top_features = top_features.sort_values('coefficient')"
      ],
      "metadata": {
        "id": "MxiRuNDBwsH3"
      },
      "execution_count": null,
      "outputs": []
    },
    {
      "cell_type": "code",
      "source": [
        "plt.figure(figsize=(12, 8))\n",
        "bars = plt.barh(np.arange(len(top_features)), top_features['coefficient'])\n",
        "plt.yticks(np.arange(len(top_features)), top_features['feature'], fontsize=10)\n",
        "plt.xlabel('Coefficient Value')\n",
        "plt.title('Top 25 Feature Coefficients in Logistic Regression Model')\n",
        "\n",
        "# Color code bars based on positive/negative values\n",
        "for bar in bars:\n",
        "    if bar.get_width() < 0:\n",
        "        bar.set_color('red')\n",
        "    else:\n",
        "        bar.set_color('blue')\n",
        "\n",
        "plt.tight_layout()\n",
        "plt.show()\n"
      ],
      "metadata": {
        "id": "bdjPd14Y3s3X"
      },
      "execution_count": null,
      "outputs": []
    },
    {
      "cell_type": "code",
      "source": [
        "selected_features = top_features['feature'].tolist()\n",
        "X_top = df_cleaned[selected_features]\n",
        "X_top = scaler.fit_transform(X_top)\n",
        "X_train_top, X_test_top, y_train_top, y_test_top = train_test_split(X_top,y,stratify = y,test_size = 0.2, random_state = 69)\n",
        "print(\"Original Dataset Counter : \", Counter(y_train_top))\n",
        "smote = SMOTE(sampling_strategy = 0.05, random_state = 69)\n",
        "X_train_top_smote, y_train_top_smote = smote.fit_resample(X_train_top, y_train_top)\n",
        "print(\"Random Oversampling Counter : \", Counter(y_train_top_smote))\n",
        "\n",
        "# Train new model\n",
        "top_logistic_regression_model = LogisticRegression(C=0.01, max_iter=1000)\n",
        "top_logistic_regression_model.fit(X_train_top_smote, y_train_top_smote)\n"
      ],
      "metadata": {
        "id": "woqaRabx3uL0"
      },
      "execution_count": null,
      "outputs": []
    },
    {
      "cell_type": "code",
      "source": [
        "y_pred_top_logistic_regression = top_logistic_regression_model.predict(X_test_top)\n",
        "accuracy_top_logistic_regression = accuracy_score(y_test_top, y_pred_top_logistic_regression)\n",
        "print(\"Top 50 Linear Regression Model Accuracy : \", accuracy_top_logistic_regression)"
      ],
      "metadata": {
        "id": "Iw_vD1qN4Nr6"
      },
      "execution_count": null,
      "outputs": []
    },
    {
      "cell_type": "markdown",
      "source": [
        "The above accuracy seems to be high but it has likely fit due to the high imbalance, this can be seen from the ROC_AUC curve"
      ],
      "metadata": {
        "id": "QANfkH-S4gC2"
      }
    },
    {
      "cell_type": "code",
      "source": [
        "  ##ROC-AUC curve for Logistic Regression Model with all informative features\n",
        "  fpr_linear, tpr_linear, thresholds_linear = roc_curve(y_test, y_pred_logistic_regression)\n",
        "  roc_auc = auc(fpr_linear,tpr_linear)\n",
        "  plt.figure(figsize=(8, 6))\n",
        "  plt.plot(fpr_linear, tpr_linear, color='darkorange', lw=2, label=f'ROC curve (AUC = {roc_auc:.2f})')\n",
        "  plt.plot([0, 1], [0, 1], color='navy', lw=2, linestyle='--')  # Diagonal line\n",
        "  plt.xlabel('False Positive Rate')\n",
        "  plt.ylabel('True Positive Rate')\n",
        "  plt.title('Receiver Operating Characteristic (ROC) Curve for Linear Regression Model')\n",
        "  plt.legend(loc=\"lower right\")\n",
        "  plt.show()"
      ],
      "metadata": {
        "id": "UkcIq1OR4Y3h"
      },
      "execution_count": null,
      "outputs": []
    },
    {
      "cell_type": "code",
      "source": [
        "##ROC-AUC curve for Logistic Regression Model with top 50 features\n",
        "fpr_linear, tpr_linear, thresholds_linear = roc_curve(y_test, y_pred_top_logistic_regression)\n",
        "roc_auc = auc(fpr_linear,tpr_linear)\n",
        "plt.figure(figsize=(8, 6))\n",
        "plt.plot(fpr_linear, tpr_linear, color='darkorange', lw=2, label=f'ROC curve (AUC = {roc_auc:.2f})')\n",
        "plt.plot([0, 1], [0, 1], color='navy', lw=2, linestyle='--')  # Diagonal line\n",
        "plt.xlabel('False Positive Rate')\n",
        "plt.ylabel('True Positive Rate')\n",
        "plt.title('Receiver Operating Characteristic (ROC) Curve for Linear Regression Model')\n",
        "plt.legend(loc=\"lower right\")\n",
        "plt.show()"
      ],
      "metadata": {
        "id": "TUyiGwcn40zA"
      },
      "execution_count": null,
      "outputs": []
    },
    {
      "cell_type": "markdown",
      "source": [
        "## Building a Random Forest Classifier"
      ],
      "metadata": {
        "id": "q_yhrcBR5r3N"
      }
    },
    {
      "cell_type": "code",
      "source": [
        "from sklearn.ensemble import RandomForestClassifier"
      ],
      "metadata": {
        "id": "iwOYPiby496E"
      },
      "execution_count": null,
      "outputs": []
    },
    {
      "cell_type": "code",
      "source": [
        "rf_model = RandomForestClassifier(\n",
        "    n_estimators=200,        # Number of trees\n",
        "    max_features='sqrt',     # Features considered per split\n",
        "    max_depth=15,            # Tree depth\n",
        "    min_samples_split=10,    # Minimum samples to split\n",
        "    min_samples_leaf=2,      # Minimum samples in leaf nodes\n",
        "    bootstrap=True,          # Bootstrap sampling\n",
        "    class_weight = 'balanced',\n",
        "    random_state=69          # Reproducibility\n",
        ")\n",
        "\n",
        "# Train the model\n",
        "rf_model.fit(X_train_top_smote, y_train_top_smote)"
      ],
      "metadata": {
        "id": "0YTEmMtR5FN8"
      },
      "execution_count": null,
      "outputs": []
    },
    {
      "cell_type": "code",
      "source": [
        "y_pred_rf = rf_model.predict(X_test_top)\n",
        "accuracy_rf = accuracy_score(y_test_top, y_pred_rf)\n",
        "print(\"Random Forest Accuracy:\", accuracy_rf)\n",
        "from sklearn.metrics import confusion_matrix\n",
        "print(\"Confusion matrix for the Random Forest Classifier Model : \\n\",confusion_matrix(y_test_top,y_pred_rf))"
      ],
      "metadata": {
        "id": "2nbcaXea5NvF"
      },
      "execution_count": null,
      "outputs": []
    },
    {
      "cell_type": "code",
      "source": [
        "fpr_rf, tpr_rf, thresholds_rf = roc_curve(y_test_top, y_pred_rf)\n",
        "roc_auc_rf = auc(fpr_rf,tpr_rf)\n",
        "plt.figure(figsize=(8, 6))\n",
        "plt.plot(fpr_rf, tpr_rf, color='darkorange', lw=2, label=f'ROC curve (AUC = {roc_auc_rf:.2f})')\n",
        "plt.plot([0, 1], [0, 1], color='navy', lw=2, linestyle='--')  # Diagonal line\n",
        "plt.xlabel('False Positive Rate')\n",
        "plt.ylabel('True Positive Rate')\n",
        "plt.title('Receiver Operating Characteristic (ROC) Curve for Random Forest Classifier Model')\n",
        "plt.legend(loc=\"lower right\")\n",
        "plt.show()"
      ],
      "metadata": {
        "id": "nYkV5Nzk5mdY"
      },
      "execution_count": null,
      "outputs": []
    },
    {
      "cell_type": "markdown",
      "source": [
        "As seen above the random forest classifier has high accuracy but poor AUC because of the highly imbalanced dataset"
      ],
      "metadata": {
        "id": "uAx2Xi7d57Ns"
      }
    },
    {
      "cell_type": "markdown",
      "source": [
        "We can try running a GridSearchCV and use ROC-AUC for scoring"
      ],
      "metadata": {
        "id": "ltAEJlRl6H-w"
      }
    },
    {
      "cell_type": "code",
      "source": [
        "from sklearn.model_selection import GridSearchCV\n",
        "\n",
        "param_grid = {\n",
        "    'n_estimators': [50, 100, 200],\n",
        "    'max_depth': [30, 40, 50],\n",
        "    'min_samples_split': [10, 20, 30],\n",
        "    'min_samples_leaf': [1, 2, 4],\n",
        "    'class_weight': ['balanced'],\n",
        "}\n",
        "grid_search_rf = GridSearchCV(\n",
        "    estimator=RandomForestClassifier(),\n",
        "    param_grid=param_grid,\n",
        "    scoring='roc_auc',\n",
        "    cv=5,\n",
        "    verbose=1,\n",
        "    n_jobs=-1\n",
        ")\n",
        "grid_search_rf.fit(X_train_top_smote, y_train_top_smote)\n",
        "print(\"Best parameters : \", grid_search_rf.best_params_)\n"
      ],
      "metadata": {
        "id": "SfRa4pYp55Q6"
      },
      "execution_count": null,
      "outputs": []
    },
    {
      "cell_type": "markdown",
      "source": [
        "All the above models have high accuracy but very poor AUC(close to 0.5 which is as good as random guessing) because of the highly imbalanced dataset, even on changing the sampling strategy of SMOTE and trying different set of features such as top 25 or 50 features or only using other features which have sufficient data didn't help"
      ],
      "metadata": {
        "id": "Ie3i9uI09gyQ"
      }
    },
    {
      "cell_type": "markdown",
      "source": [
        "Now we'll work on other set of features, mainly transaction attributes and onus_attribute_1 which are obviously important while considering our problem but have been omitted because of their lack of information."
      ],
      "metadata": {
        "id": "6w08u9d99phW"
      }
    },
    {
      "cell_type": "markdown",
      "source": [
        "We'll do this by changing our imputer strategy which was used before"
      ],
      "metadata": {
        "id": "YdVw-n6a9sQA"
      }
    },
    {
      "cell_type": "code",
      "source": [
        "transaction_cols = [col for col in dev_data_df.columns if col.startswith(\"transaction_attribute\")]\n",
        "onus_cols = [col for col in dev_data_df.columns if col.startswith(\"onus_attribute\")]\n",
        "bureau_cols = [col for col in dev_data_df.columns if col.startswith(\"bureau\")]\n",
        "bureau_enquiry_cols = [col for col in dev_data_df.columns if col.startswith(\"bureau_enquiry\")]\n",
        "\n",
        "# Impute transaction_attribute_# columns with 0\n",
        "dev_data_df[transaction_cols] = dev_data_df[transaction_cols].fillna(0)\n",
        "validation_data_df[transaction_cols] = validation_data_df[transaction_cols].fillna(0)\n",
        "\n",
        "# Impute onus_attributes with median\n",
        "for col in onus_cols:\n",
        "    median_value = dev_data_df[col].median()\n",
        "    dev_data_df[col].fillna(median_value, inplace=True)\n",
        "    validation_data_df[col].fillna(median_value, inplace=True)\n",
        "\n",
        "# Impute bureau attributes (mode for categories, mean/median for numeric counts)\n",
        "for col in bureau_cols:\n",
        "    mean_value = dev_data_df[col].mean()\n",
        "    dev_data_df[col].fillna(mean_value, inplace=True)\n",
        "    validation_data_df[col].fillna(mean_value, inplace=True)\n",
        "\n",
        "# Impute bureau_enquiry attributes with median\n",
        "for col in bureau_enquiry_cols:\n",
        "    median_value = dev_data_df[col].median()\n",
        "    dev_data_df[col].fillna(median_value, inplace=True)\n",
        "    validation_data_df[col].fillna(median_value, inplace=True)\n",
        "dev_data_df.fillna(0, inplace=True)\n",
        "validation_data_df.fillna(0, inplace=True)"
      ],
      "metadata": {
        "id": "WUJccy_d9n0s"
      },
      "execution_count": null,
      "outputs": []
    },
    {
      "cell_type": "code",
      "source": [
        "dev_data_df = pd.get_dummies(dev_data_df,columns = ['bad_flag'], drop_first = True)"
      ],
      "metadata": {
        "id": "I3bTydG49x2d"
      },
      "execution_count": null,
      "outputs": []
    },
    {
      "cell_type": "code",
      "source": [
        "##Splitting train and test data\n",
        "from sklearn.model_selection import train_test_split\n",
        "from sklearn.preprocessing import StandardScaler\n",
        "scaler = StandardScaler()\n",
        "X = dev_data_df.drop('bad_flag_1', axis = 1)\n",
        "y = dev_data_df['bad_flag_1']\n",
        "X = scaler.fit_transform(X)\n",
        "X_train, X_test, y_train, y_test = train_test_split(X,y,stratify = y,test_size = 0.2, random_state = 69)"
      ],
      "metadata": {
        "id": "C9-gG38R9z1Y"
      },
      "execution_count": null,
      "outputs": []
    },
    {
      "cell_type": "code",
      "source": [
        "from imblearn.over_sampling import SMOTE\n",
        "from collections import Counter\n",
        "print(\"Original Dataset Counter : \", Counter(y_train))\n",
        "smote = SMOTE(random_state = 69, sampling_strategy = 0.05)\n",
        "X_train_smote, y_train_smote = smote.fit_resample(X_train, y_train)\n",
        "print(\"Random Oversampling Counter : \", Counter(y_train_smote))"
      ],
      "metadata": {
        "id": "MREnotrK91Wj"
      },
      "execution_count": null,
      "outputs": []
    },
    {
      "cell_type": "code",
      "source": [
        "logistic_regression_model_final = LogisticRegression(C = 0.01, max_iter = 1000)\n",
        "logistic_regression_model_final.fit(X_train_smote,y_train_smote)"
      ],
      "metadata": {
        "id": "OTVQN65a92wS"
      },
      "execution_count": null,
      "outputs": []
    },
    {
      "cell_type": "code",
      "source": [
        "y_pred_logistic_regression_final = logistic_regression_model_final.predict(X_test)\n",
        "print(\"Accuracy Score : \", accuracy_score(y_test,y_pred_logistic_regression))"
      ],
      "metadata": {
        "id": "V6fkLJ1m9707"
      },
      "execution_count": null,
      "outputs": []
    },
    {
      "cell_type": "code",
      "source": [
        "fpr_linear, tpr_linear, thresholds_linear = roc_curve(y_test, y_pred_logistic_regression_final)\n",
        "roc_auc = auc(fpr_linear,tpr_linear)\n",
        "plt.figure(figsize=(8, 6))\n",
        "plt.plot(fpr_linear, tpr_linear, color='darkorange', lw=2, label=f'ROC curve (AUC = {roc_auc:.2f})')\n",
        "plt.plot([0, 1], [0, 1], color='navy', lw=2, linestyle='--')  # Diagonal line\n",
        "plt.xlabel('False Positive Rate')\n",
        "plt.ylabel('True Positive Rate')\n",
        "plt.title('Receiver Operating Characteristic (ROC) Curve for Linear Regression Model')\n",
        "plt.legend(loc=\"lower right\")\n",
        "plt.show()"
      ],
      "metadata": {
        "id": "Y5hf-y_A99A3"
      },
      "execution_count": null,
      "outputs": []
    },
    {
      "cell_type": "code",
      "source": [
        "base_estimator = DecisionTreeClassifier(max_depth=20, class_weight='balanced')\n",
        "ada_model_final = AdaBoostClassifier(estimator=base_estimator, n_estimators=100, learning_rate=0.1)"
      ],
      "metadata": {
        "id": "PDEwJ8sp9-CE"
      },
      "execution_count": null,
      "outputs": []
    },
    {
      "cell_type": "code",
      "source": [
        "from sklearn.utils.class_weight import compute_sample_weight\n",
        "sample_weights = compute_sample_weight('balanced', y_train)\n",
        "ada_model_final.fit(X_train, y_train, sample_weight=sample_weights)"
      ],
      "metadata": {
        "id": "TYndeGG5A5j6"
      },
      "execution_count": null,
      "outputs": []
    },
    {
      "cell_type": "code",
      "source": [
        "y_pred_ada_final = ada_model_final.predict(X_test)"
      ],
      "metadata": {
        "id": "NeIxIo7xA6zp"
      },
      "execution_count": null,
      "outputs": []
    },
    {
      "cell_type": "code",
      "source": [
        "accuracy_ada_final = accuracy_score(y_test, y_pred_ada_final)\n",
        "print(\"Ada Final Accuracy:\", accuracy_ada_final)\n",
        "from sklearn.metrics import confusion_matrix\n",
        "print(\"Confusion matrix for the Random Forest Classifier Model : \\n\",confusion_matrix(y_test,y_pred_ada_final))"
      ],
      "metadata": {
        "id": "jlUZXhYqA8Dp"
      },
      "execution_count": null,
      "outputs": []
    },
    {
      "cell_type": "code",
      "source": [
        "fpr_ada, tpr_ada, thresholds_ada = roc_curve(y_test, y_pred_ada_final)\n",
        "roc_auc_ada = auc(fpr_ada,tpr_ada)\n",
        "plt.figure(figsize=(8, 6))\n",
        "plt.plot(fpr_ada, tpr_ada, color='darkorange', lw=2, label=f'ROC curve (AUC = {roc_auc_ada:.2f})')\n",
        "plt.plot([0, 1], [0, 1], color='navy', lw=2, linestyle='--')  # Diagonal line\n",
        "plt.xlabel('False Positive Rate')\n",
        "plt.ylabel('True Positive Rate')\n",
        "plt.title('Receiver Operating Characteristic (ROC) Curve for AdaBoost Model')\n",
        "plt.legend(loc=\"lower right\")\n",
        "plt.show()"
      ],
      "metadata": {
        "id": "igbElycLA9Na"
      },
      "execution_count": null,
      "outputs": []
    },
    {
      "cell_type": "markdown",
      "source": [
        "## Categorization of Validation Dataset"
      ],
      "metadata": {
        "id": "Si8qA9lDBkOJ"
      }
    },
    {
      "cell_type": "code",
      "source": [
        "# 1. Define the risk categorization function\n",
        "def categorize_risk(prob):\n",
        "    if prob < 0.20:\n",
        "        return 'Safe'\n",
        "    elif 0.20 <= prob < 0.60:\n",
        "        return 'Low-Risk'\n",
        "    elif 0.60 <= prob < 0.90:\n",
        "        return 'Medium-Risk'\n",
        "    else:\n",
        "        return 'High-Risk'\n",
        "\n",
        "# 2. Load the submission.csv data\n",
        "df = pd.read_csv('submission.csv')\n",
        "\n",
        "# 3. Apply the categorization function to create a new column for risk categories\n",
        "df['RiskCategory'] = df['predicted_probability'].apply(categorize_risk)\n",
        "\n",
        "# 4. Count the number of people in each risk category\n",
        "risk_counts = df['RiskCategory'].value_counts()\n",
        "\n",
        "# 5. Plot a bar chart of the counts\n",
        "plt.figure(figsize=(8, 6))\n",
        "bars = plt.bar(risk_counts.index, risk_counts.values, color='skyblue', edgecolor='black')\n",
        "plt.title('Number of People in Each Risk Category')\n",
        "plt.xlabel('Risk Category')\n",
        "plt.ylabel('Number of People')\n",
        "plt.xticks(rotation=45)\n",
        "plt.grid(axis='y', linestyle='--', alpha=0.7)\n",
        "\n",
        "# Annotate bars with counts\n",
        "for bar in bars:\n",
        "    height = bar.get_height()\n",
        "    plt.annotate(f'{int(height)}',\n",
        "                 xy=(bar.get_x() + bar.get_width() / 2, height),\n",
        "                 xytext=(0, 3),  # 3 points vertical offset\n",
        "                 textcoords=\"offset points\",\n",
        "                 ha='center', va='bottom')\n",
        "\n",
        "plt.show()"
      ],
      "metadata": {
        "id": "LZfK-vJlBg00",
        "colab": {
          "base_uri": "https://localhost:8080/",
          "height": 623
        },
        "outputId": "687f14fd-f5d5-4108-b698-887ea5b99cea"
      },
      "execution_count": 12,
      "outputs": [
        {
          "output_type": "display_data",
          "data": {
            "text/plain": [
              "<Figure size 800x600 with 1 Axes>"
            ],
            "image/png": "[encoded data removed]"
          },
          "metadata": {}
        }
      ]
    }
  ]
}